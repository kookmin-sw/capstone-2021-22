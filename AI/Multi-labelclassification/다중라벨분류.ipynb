{
  "nbformat": 4,
  "nbformat_minor": 0,
  "metadata": {
    "accelerator": "GPU",
    "colab": {
      "name": "다중라벨분류_origin",
      "provenance": [],
      "collapsed_sections": []
    },
    "kernelspec": {
      "display_name": "Python 3",
      "language": "python",
      "name": "python3"
    },
    "language_info": {
      "codemirror_mode": {
        "name": "ipython",
        "version": 3
      },
      "file_extension": ".py",
      "mimetype": "text/x-python",
      "name": "python",
      "nbconvert_exporter": "python",
      "pygments_lexer": "ipython3",
      "version": "3.8.3"
    }
  },
  "cells": [
    {
      "cell_type": "code",
      "metadata": {
        "id": "jy6sNiiPlcDw"
      },
      "source": [
        "from keras.preprocessing.image import ImageDataGenerator\n"
      ],
      "execution_count": 1,
      "outputs": []
    },
    {
      "cell_type": "code",
      "metadata": {
        "id": "tu26RceZV5rq"
      },
      "source": [
        "from keras.models import Sequential\n",
        "from keras.layers.normalization import BatchNormalization\n",
        "from keras.layers.convolutional import Conv2D\n",
        "from keras.layers.convolutional import MaxPooling2D\n",
        "from keras.layers.core import Activation\n",
        "from keras.layers.core import Flatten\n",
        "from keras.layers.core import Dropout\n",
        "from keras.layers.core import Dense\n",
        "from keras import backend as K"
      ],
      "execution_count": 2,
      "outputs": []
    },
    {
      "cell_type": "code",
      "metadata": {
        "id": "AyeBPszDV8BO"
      },
      "source": [
        "class SmallerVGGNet:\n",
        "\t@staticmethod\n",
        "\tdef build(width, height, depth, classes, finalAct=\"softmax\"):\n",
        "\t\t# 인풋 이미지의 차원과, 채널에 해당하는 축을 설정하여 모델을 초기화\n",
        "\t\t# \"channels_last\"는 채널의 축이 마지막에 오는 것을\n",
        "\t\tmodel = Sequential()\n",
        "\t\tinputShape = (height, width, depth)\n",
        "\t\tchanDim = -1\n",
        " \n",
        " \t\t# 인풋 이미지의 차원 맞게 바꿔줍니다\n",
        "\t\tif K.image_data_format() == \"channels_first\":\n",
        "\t\t\tinputShape = (depth, height, width)\n",
        "\t\t\tchanDim = 1\n",
        "\n",
        "    # CONV => RELU => POOL\n",
        "\t\tmodel.add(Conv2D(32, (3, 3), padding=\"same\",\n",
        "\t\t\tinput_shape=inputShape))\n",
        "\t\tmodel.add(Activation(\"relu\"))\n",
        "\t\tmodel.add(BatchNormalization(axis=chanDim))\n",
        "\t\tmodel.add(MaxPooling2D(pool_size=(3, 3)))\n",
        "\t\tmodel.add(Dropout(0.25))\n",
        "  \n",
        "\n",
        "    # (CONV => RELU) * 2 => POOL\n",
        "\t\tmodel.add(Conv2D(64, (3, 3), padding=\"same\"))\n",
        "\t\tmodel.add(Activation(\"relu\"))\n",
        "\t\tmodel.add(BatchNormalization(axis=chanDim))\n",
        "\t\tmodel.add(Conv2D(64, (3, 3), padding=\"same\"))\n",
        "\t\tmodel.add(Activation(\"relu\"))\n",
        "\t\tmodel.add(BatchNormalization(axis=chanDim))\n",
        "\t\tmodel.add(MaxPooling2D(pool_size=(2, 2)))\n",
        "\t\tmodel.add(Dropout(0.25))\n",
        " \n",
        "\t\t# (CONV => RELU) * 2 => POOL\n",
        "\t\tmodel.add(Conv2D(128, (3, 3), padding=\"same\"))\n",
        "\t\tmodel.add(Activation(\"relu\"))\n",
        "\t\tmodel.add(BatchNormalization(axis=chanDim))\n",
        "\t\tmodel.add(Conv2D(128, (3, 3), padding=\"same\"))\n",
        "\t\tmodel.add(Activation(\"relu\"))\n",
        "\t\tmodel.add(BatchNormalization(axis=chanDim))\n",
        "\t\tmodel.add(MaxPooling2D(pool_size=(2, 2)))\n",
        "\t\tmodel.add(Dropout(0.25))\n",
        "  \n",
        "\n",
        "    # FC => RELU\n",
        "\t\tmodel.add(Flatten())\n",
        "\t\tmodel.add(Dense(1024))\n",
        "\t\tmodel.add(Activation(\"relu\"))\n",
        "\t\tmodel.add(BatchNormalization())\n",
        "\t\tmodel.add(Dropout(0.5))\n",
        "\n",
        "\t\t# 다중 라벨 분류는 *sigmoid* 활성화 함수를 사용\n",
        "\t\tmodel.add(Dense(classes))\n",
        "\t\tmodel.add(Activation(finalAct))\n",
        " \n",
        " \t\t# 네트워크 아키텍처를 반환합니다\n",
        "\t\treturn model"
      ],
      "execution_count": 4,
      "outputs": []
    },
    {
      "cell_type": "code",
      "metadata": {
        "id": "aMDrYYnaZYI5"
      },
      "source": [
        "import matplotlib\n",
        "matplotlib.use(\"Agg\")\n",
        " \n",
        "# 필요한 패키지들을 가져옵니다\n",
        "from keras.preprocessing.image import ImageDataGenerator\n",
        "from keras.optimizers import Adam\n",
        "from keras.preprocessing.image import img_to_array\n",
        "from sklearn.preprocessing import MultiLabelBinarizer\n",
        "from sklearn.model_selection import train_test_split\n",
        "# from pyimagesearch.smallervggnet import SmallerVGGNet\n",
        "import matplotlib.pyplot as plt\n",
        "from imutils import paths\n",
        "import numpy as np\n",
        "import argparse\n",
        "import random\n",
        "import pickle\n",
        "import cv2\n",
        "import os"
      ],
      "execution_count": 5,
      "outputs": []
    },
    {
      "cell_type": "code",
      "metadata": {
        "colab": {
          "base_uri": "https://localhost:8080/"
        },
        "id": "XHomeMjAJXcH",
        "outputId": "deaec625-856f-45f1-c646-a1dd712a154a"
      },
      "source": [
        "from google.colab import drive\n",
        "drive.mount('/content/drive')"
      ],
      "execution_count": 6,
      "outputs": [
        {
          "output_type": "stream",
          "text": [
            "Mounted at /content/drive\n"
          ],
          "name": "stdout"
        }
      ]
    },
    {
      "cell_type": "code",
      "metadata": {
        "id": "nKW2RLthu1x5"
      },
      "source": [
        "zipfiles = os.listdir('/content/drive/MyDrive/이게뭐약/AI/색깔모양분류/all/removeimg')"
      ],
      "execution_count": 7,
      "outputs": []
    },
    {
      "cell_type": "code",
      "metadata": {
        "id": "ayLFybqmu_Nj"
      },
      "source": [
        "for zipfile in zipfiles :\n",
        "  unzipfile = \"/content/drive/MyDrive/이게뭐약/AI/색깔모양분류/all/removeimg/\" + zipfile\n",
        "  !unzip -qq $unzipfile"
      ],
      "execution_count": null,
      "outputs": []
    },
    {
      "cell_type": "code",
      "metadata": {
        "id": "IxTInQjbnLOK"
      },
      "source": [
        "# !unzip -qq \"/content/drive/MyDrive/이게뭐약/AI/색깔모양분류/all/Allcolorimg.zip\""
      ],
      "execution_count": null,
      "outputs": []
    },
    {
      "cell_type": "code",
      "metadata": {
        "id": "WmWJrtMN8nhS",
        "colab": {
          "base_uri": "https://localhost:8080/"
        },
        "outputId": "cce50d07-7457-4cfc-e582-d8ac6aee8361"
      },
      "source": [
        "import shutil\n",
        "for foldername in os.listdir('/content/content'):\n",
        "  filenames = '/content/content/'+foldername\n",
        "  print(filenames)\n",
        "  for filename in os.listdir(filenames):\n",
        "    if os.path.isfile('/content/removebgimg/'+filename): continue\n",
        "    else : shutil.move(filenames+'/'+filename,'/content/removebgimg/')\n"
      ],
      "execution_count": 11,
      "outputs": [
        {
          "output_type": "stream",
          "text": [
            "/content/content/removeimg9\n",
            "/content/content/removeimg61\n",
            "/content/content/removeimg10\n",
            "/content/content/removeimg59\n",
            "/content/content/removeimg19\n",
            "/content/content/removeimg22\n",
            "/content/content/removeimg23\n",
            "/content/content/removeimg5\n",
            "/content/content/removeimg11\n",
            "/content/content/removeimg17\n",
            "/content/content/removeimg4\n",
            "/content/content/removeimg51\n",
            "/content/content/removeimg30\n",
            "/content/content/removeimg81\n",
            "/content/content/removeimg60\n",
            "/content/content/removeimg\n",
            "/content/content/removeimg8\n",
            "/content/content/removeimg3\n",
            "/content/content/removeimg31\n",
            "/content/content/removeimg21\n",
            "/content/content/removeimg16\n",
            "/content/content/removeimg32\n",
            "/content/content/removeimg57\n",
            "/content/content/removeimg6\n",
            "/content/content/removeimg14\n",
            "/content/content/removeimg12\n",
            "/content/content/removeimg52\n",
            "/content/content/removeimg50\n",
            "/content/content/removeimg80\n",
            "/content/content/removeimg58\n",
            "/content/content/removeimg82\n",
            "/content/content/removeimg2\n",
            "/content/content/removeimg13\n",
            "/content/content/removeimg18\n",
            "/content/content/removeimg15\n",
            "/content/content/removeimg33\n",
            "/content/content/removeimg53\n",
            "/content/content/removeimg7\n",
            "/content/content/removeimg55\n",
            "/content/content/removeimg20\n"
          ],
          "name": "stdout"
        }
      ]
    },
    {
      "cell_type": "code",
      "metadata": {
        "colab": {
          "base_uri": "https://localhost:8080/"
        },
        "id": "bA3jUszee9vg",
        "outputId": "cf222a9e-2616-4fd7-fbce-9e4ec06a5295"
      },
      "source": [
        "import os\n",
        "len(os.listdir('/content/removebgimg/'))"
      ],
      "execution_count": 12,
      "outputs": [
        {
          "output_type": "execute_result",
          "data": {
            "text/plain": [
              "18963"
            ]
          },
          "metadata": {
            "tags": []
          },
          "execution_count": 12
        }
      ]
    },
    {
      "cell_type": "code",
      "metadata": {
        "id": "pv36MufVOoki"
      },
      "source": [
        "import easydict\n",
        " \n",
        "args = easydict.EasyDict({\n",
        "        \"dataset\": True,\n",
        "        \"model\": True,\n",
        "        \"labelbin\": True,\n",
        "        \"plot\": \"plot.jpg\"\n",
        "\n",
        "})"
      ],
      "execution_count": 13,
      "outputs": []
    },
    {
      "cell_type": "code",
      "metadata": {
        "id": "ynqoW_m6N-zM"
      },
      "source": [
        "EPOCHS = 75\n",
        "INIT_LR = 1e-3\n",
        "BS = 32\n",
        "IMAGE_DIMS = (96, 96, 3)"
      ],
      "execution_count": 14,
      "outputs": []
    },
    {
      "cell_type": "code",
      "metadata": {
        "colab": {
          "base_uri": "https://localhost:8080/"
        },
        "id": "PTiMPfeYPcl2",
        "outputId": "5cff67b3-d0e9-4841-e1db-b4dff0bf7941"
      },
      "source": [
        "# 이미지 경로\n",
        "print(\"[INFO] loading images...\")\n",
        "imagePaths = \"/content/removebgimg/\"\n",
        "# random.seed(42)\n",
        "# random.shuffle(imagePaths)\n",
        " \n"
      ],
      "execution_count": 15,
      "outputs": [
        {
          "output_type": "stream",
          "text": [
            "[INFO] loading images...\n"
          ],
          "name": "stdout"
        }
      ]
    },
    {
      "cell_type": "code",
      "metadata": {
        "id": "ngb7qzyyQU2R"
      },
      "source": [
        "file_list = os.listdir(imagePaths)"
      ],
      "execution_count": 16,
      "outputs": []
    },
    {
      "cell_type": "code",
      "metadata": {
        "id": "msI0uny3QbZZ",
        "colab": {
          "base_uri": "https://localhost:8080/"
        },
        "outputId": "8f057799-251b-4e7e-c03c-906999502422"
      },
      "source": [
        "file_list"
      ],
      "execution_count": 17,
      "outputs": [
        {
          "output_type": "execute_result",
          "data": {
            "text/plain": [
              "['원형_하양-201205038.png',\n",
              " '삼각형_연두-201203745.png',\n",
              " '원형_하양-200404863.png',\n",
              " '장방형_초록-200501369.png',\n",
              " '타원형_하양-201403598.png',\n",
              " '타원형_하양-200809806.png',\n",
              " '원형_연두-199901332.png',\n",
              " '장방형_갈색-200608335.png',\n",
              " '장방형_노랑-200401412.png',\n",
              " '장방형_연두-200502600.png',\n",
              " '원형_노랑-200503651.png',\n",
              " '원형_하양-201309180.png',\n",
              " '타원형_초록-201006517.png',\n",
              " '원형_주황-200108425.png',\n",
              " '타원형_노랑-201505054.png',\n",
              " '원형_주황-201708184.png',\n",
              " '원형_주황,투명-200906877.png',\n",
              " '장방형_주황-200401385.png',\n",
              " '원형_하양-200102887.png',\n",
              " '타원형_빨강-201307820.png',\n",
              " '원형_하양-201603807.png',\n",
              " '타원형_분홍-201502661.png',\n",
              " '원형_분홍-201603059.png',\n",
              " '타원형_파랑-201605756.png',\n",
              " '원형_하양-198500241.png',\n",
              " '원형_하양-201402864.png',\n",
              " '장방형_주황-199000983.png',\n",
              " '타원형_갈색-201603032.png',\n",
              " '원형_분홍-201501929.png',\n",
              " '타원형_초록-200502681.png',\n",
              " '삼각형_분홍-201206903.png',\n",
              " '장방형_노랑-200102568.png',\n",
              " '장방형_하양-201501593.png',\n",
              " '장방형_하양-200101871.png',\n",
              " '타원형_하양-200703587.png',\n",
              " '장방형_자주-201003062.png',\n",
              " '장방형_하양-201406103.png',\n",
              " '타원형_노랑,투명-201701230.png',\n",
              " '장방형_노랑-201507458.png',\n",
              " '원형_하양-201600426.png',\n",
              " '장방형_갈색-200811079.png',\n",
              " '장방형_청록,투명-201603096.png',\n",
              " '타원형_갈색-201310989.png',\n",
              " '장방형_갈색-201005122.png',\n",
              " '기타_하양-200810031.png',\n",
              " '장방형_하양-201502464.png',\n",
              " '타원형_분홍-201000877.png',\n",
              " '원형_갈색-198901086.png',\n",
              " '장방형_노랑-200400083.png',\n",
              " '장방형_노랑-200905600.png',\n",
              " '타원형_하양-201601609.png',\n",
              " '원형_노랑-201310720.png',\n",
              " '원형_하양-199900672.png',\n",
              " '원형_하양-200600178.png',\n",
              " '원형_노랑-201405854.png',\n",
              " '타원형_노랑,투명-201601191.png',\n",
              " '원형_하양-201302240.png',\n",
              " '원형_주황-201603715.png',\n",
              " '장방형_연두-197700036.png',\n",
              " '장방형_자주-198700913.png',\n",
              " '사각형_분홍-201601772.png',\n",
              " '타원형_주황-200200858.png',\n",
              " '원형_하양-201500969.png',\n",
              " '타원형_분홍-200300941.png',\n",
              " '원형_하양-201508426.png',\n",
              " '타원형_하양-201402910.png',\n",
              " '타원형_주황-201500192.png',\n",
              " '원형_연두-200402420.png',\n",
              " '장방형_분홍-199200883.png',\n",
              " '원형_하양-201307903.png',\n",
              " '장방형_파랑-200610985.png',\n",
              " '원형_하양-200402397.png',\n",
              " '원형_노랑-201404225.png',\n",
              " '장방형_하양-199301578.png',\n",
              " '원형_주황-199501832.png',\n",
              " '원형_하양-200502737.png',\n",
              " '원형_파랑-199303998.png',\n",
              " '원형_노랑-199000141.png',\n",
              " '원형_분홍-199801193.png',\n",
              " '장방형_노랑-200709640.png',\n",
              " '장방형_빨강-200001003.png',\n",
              " '원형_연두-200004244.png',\n",
              " '원형_하양-200402544.png',\n",
              " '타원형_연두-200502304.png',\n",
              " '장방형_분홍-201600316.png',\n",
              " '장방형_파랑-199400333.png',\n",
              " '원형_하양-201601090.png',\n",
              " '장방형_노랑-201404114.png',\n",
              " '타원형_갈색-201310719.png',\n",
              " '타원형_빨강,투명-201402158.png',\n",
              " '원형_분홍-200502663.png',\n",
              " '타원형_하양-199907245.png',\n",
              " '타원형_노랑-201309110.png',\n",
              " '장방형_파랑-201502577.png',\n",
              " '원형_하양-197900575.png',\n",
              " '원형_노랑-199701555.png',\n",
              " '장방형_분홍-200903022.png',\n",
              " '원형_분홍-201405416.png',\n",
              " '장방형_주황-199102092.png',\n",
              " '타원형_하양-201404985.png',\n",
              " '원형_하양-201404584.png',\n",
              " '원형_노랑-201604311.png',\n",
              " '원형_하양-201405615.png',\n",
              " '기타_파랑-200709818.png',\n",
              " '원형_분홍-201208997.png',\n",
              " '장방형_노랑-200901296.png',\n",
              " '타원형_주황,투명-201307805.png',\n",
              " '원형_분홍-201403200.png',\n",
              " '타원형_노랑,투명-201201791.png',\n",
              " '타원형_노랑,투명-200608455.png',\n",
              " '원형_하양-200404721.png',\n",
              " '장방형_하양-199701398.png',\n",
              " '타원형_초록,투명-200904082.png',\n",
              " '장방형_하양-201209717.png',\n",
              " '원형_하양-200500109.png',\n",
              " '장방형_갈색-200907817.png',\n",
              " '팔각형_하양-200501348.png',\n",
              " '장방형_분홍-200512200.png',\n",
              " '원형_주황-201308601.png',\n",
              " '타원형_하양-200802707.png',\n",
              " '장방형_주황-198900925.png',\n",
              " '장방형_노랑-200400481.png',\n",
              " '장방형_갈색-201007193.png',\n",
              " '타원형_갈색-201601341.png',\n",
              " '타원형_파랑-201003150.png',\n",
              " '타원형_노랑-201802839.png',\n",
              " '타원형_하양-201606395.png',\n",
              " '장방형_파랑-199802387.png',\n",
              " '마름모형_파랑-200410083.png',\n",
              " '타원형_연두-200200782.png',\n",
              " '원형_하양-200810812.png',\n",
              " '장방형_하양-201504237.png',\n",
              " '장방형_하양-199900928.png',\n",
              " '타원형_검정-200711307.png',\n",
              " '장방형_파랑-200410362.png',\n",
              " '원형_하양-200502294.png',\n",
              " '원형_하양-201306112.png',\n",
              " '원형_노랑-201000975.png',\n",
              " '원형_하양-201206556.png',\n",
              " '원형_하양-201405014.png',\n",
              " '장방형_갈색-200101992.png',\n",
              " '장방형_갈색-200908953.png',\n",
              " '삼각형_하양-200511063.png',\n",
              " '장방형_보라-199802093.png',\n",
              " '장방형_노랑-201700998.png',\n",
              " '장방형_연두-200902108.png',\n",
              " '장방형_하양-200101249.png',\n",
              " '원형_하양-200700799.png',\n",
              " '장방형_노랑-200804558.png',\n",
              " '원형_노랑-200102026.png',\n",
              " '장방형_갈색-200604264.png',\n",
              " '타원형_분홍-200400642.png',\n",
              " '원형_연두-198900881.png',\n",
              " '삼각형_갈색-201405068.png',\n",
              " '원형_하양-200308824.png',\n",
              " '원형_노랑-200605447.png',\n",
              " '원형_분홍-201000994.png',\n",
              " '장방형_갈색-201002803.png',\n",
              " '원형_노랑-201500211.png',\n",
              " '장방형_하양-201109230.png',\n",
              " '원형_분홍-201405299.png',\n",
              " '장방형_주황-198902526.png',\n",
              " '원형_하양-201605158.png',\n",
              " '원형_하양-200701031.png',\n",
              " '타원형_하양-201700543.png',\n",
              " '장방형_노랑-201507074.png',\n",
              " '원형_노랑-199200169.png',\n",
              " '타원형_노랑-200703803.png',\n",
              " '원형_갈색-201507133.png',\n",
              " '타원형_연두-200900967.png',\n",
              " '타원형_하양-201500899.png',\n",
              " '장방형_분홍-200902577.png',\n",
              " '기타_하양-201708083.png',\n",
              " '원형_하양-200707875.png',\n",
              " '장방형_노랑-200210593.png',\n",
              " '타원형_노랑-200811104.png',\n",
              " '원형_분홍-200402951.png',\n",
              " '원형_노랑-199304459.png',\n",
              " '장방형_노랑-201801500.png',\n",
              " '타원형_파랑,투명-201206592.png',\n",
              " '원형_자주-200003402.png',\n",
              " '원형_노랑-200610961.png',\n",
              " '장방형_노랑-201502212.png',\n",
              " '장방형_빨강-200201746.png',\n",
              " '원형_하양-200805449.png',\n",
              " '타원형_하양-200300700.png',\n",
              " '장방형_갈색-201501273.png',\n",
              " '장방형_갈색-201507895.png',\n",
              " '원형_하양,노랑-200708598.png',\n",
              " '장방형_청록-201305781.png',\n",
              " '장방형_갈색-201602713.png',\n",
              " '장방형_초록-199601642.png',\n",
              " '원형_하양-201706649.png',\n",
              " '원형_노랑-197400343.png',\n",
              " '장방형_주황-200201029.png',\n",
              " '원형_노랑-199903245.png',\n",
              " '원형_하양-200600232.png',\n",
              " '장방형_노랑-199300656.png',\n",
              " '원형_주황-199602023.png',\n",
              " '타원형_연두-201503286.png',\n",
              " '원형_노랑-200307798.png',\n",
              " '타원형_노랑-199801292.png',\n",
              " '원형_분홍-201601554.png',\n",
              " '기타_하양-200410835.png',\n",
              " '장방형_주황-200402800.png',\n",
              " '원형_주황-201308564.png',\n",
              " '장방형_연두-201506831.png',\n",
              " '장방형_하양-201400117.png',\n",
              " '장방형_하양-201202870.png',\n",
              " '장방형_하양-199602440.png',\n",
              " '원형_하양-201402822.png',\n",
              " '타원형_하양-200710199.png',\n",
              " '장방형_노랑-200511276.png',\n",
              " '원형_분홍-201603067.png',\n",
              " '원형_하양-201506564.png',\n",
              " '원형_하양-200702367.png',\n",
              " '원형_분홍-201400380.png',\n",
              " '원형_하양-199902637.png',\n",
              " '타원형_하양-200709786.png',\n",
              " '원형_하양-200402840.png',\n",
              " '장방형_초록-201603208.png',\n",
              " '기타_파랑-201708125.png',\n",
              " '장방형_연두-201403188.png',\n",
              " '원형_하양-200002759.png',\n",
              " '원형_하양-201307607.png',\n",
              " '원형_하양-201003189.png',\n",
              " '장방형_빨강-201307685.png',\n",
              " '원형_하양-199702840.png',\n",
              " '장방형_분홍-200005141.png',\n",
              " '원형_하양-201308170.png',\n",
              " '원형_노랑-201707353.png',\n",
              " '타원형_연두-201310295.png',\n",
              " '장방형_주황-200704506.png',\n",
              " '원형_하양-200300307.png',\n",
              " '원형_분홍-201206952.png',\n",
              " '원형_하양-201602408.png',\n",
              " '원형_하양-199501305.png',\n",
              " '타원형_연두-201505033.png',\n",
              " '타원형_노랑-201506479.png',\n",
              " '원형_분홍-201404097.png',\n",
              " '타원형_파랑,투명-201305543.png',\n",
              " '타원형_하양-200410831.png',\n",
              " '타원형_주황-201308539.png',\n",
              " '원형_주황-201309049.png',\n",
              " '장방형_노랑-200805631.png',\n",
              " '장방형_갈색-200703612.png',\n",
              " '원형_하양-201207596.png',\n",
              " '장방형_파랑-201110123.png',\n",
              " '원형_하양-198801168.png',\n",
              " '타원형_하양-201305037.png',\n",
              " '장방형_빨강-200607670.png',\n",
              " '원형_하양-200301743.png',\n",
              " '원형_하양-201601055.png',\n",
              " '타원형_하양-201107528.png',\n",
              " '타원형_하양-201403597.png',\n",
              " '원형_노랑-200608452.png',\n",
              " '원형_하양-199804342.png',\n",
              " '타원형_갈색-201500179.png',\n",
              " '장방형_초록-201402233.png',\n",
              " '원형_분홍-197200171.png',\n",
              " '원형_파랑-201205265.png',\n",
              " '장방형_빨강-200806636.png',\n",
              " '장방형_주황-200711927.png',\n",
              " '장방형_노랑-201600407.png',\n",
              " '원형_하양-200806846.png',\n",
              " '원형_하양-200402319.png',\n",
              " '원형_하양-201602286.png',\n",
              " '원형_청록-200502757.png',\n",
              " '장방형_노랑-201306379.png',\n",
              " '타원형_분홍-201101113.png',\n",
              " '원형_하양-200501123.png',\n",
              " '장방형_주황-201500171.png',\n",
              " '원형_하양-200501211.png',\n",
              " '타원형_노랑-201603880.png',\n",
              " '기타_연두-200402913.png',\n",
              " '원형_하양-199301094.png',\n",
              " '원형_주황-200001635.png',\n",
              " '장방형_노랑-201603119.png',\n",
              " '원형_하양-199602150.png',\n",
              " '원형_주황-201405753.png',\n",
              " '타원형_회색-201306975.png',\n",
              " '원형_분홍-201700258.png',\n",
              " '장방형_노랑-201306232.png',\n",
              " '원형_하양-199903222.png',\n",
              " '타원형_갈색-201306373.png',\n",
              " '원형_하양-200404616.png',\n",
              " '원형_하양-201003763.png',\n",
              " '장방형_연두-201109189.png',\n",
              " '삼각형_갈색-200403332.png',\n",
              " '원형_분홍-201502766.png',\n",
              " '원형_노랑-201602576.png',\n",
              " '팔각형_하양-201403834.png',\n",
              " '원형_하양-200809440.png',\n",
              " '장방형_하양-201004718.png',\n",
              " '육각형_노랑-197900123.png',\n",
              " '타원형_하양-201500660.png',\n",
              " '장방형_노랑-199802236.png',\n",
              " '타원형_분홍-200809819.png',\n",
              " '원형_하양-201109313.png',\n",
              " '원형_주황-201400162.png',\n",
              " '원형_하양-199602199.png',\n",
              " '원형_하양-200706525.png',\n",
              " '장방형_하양-201502570.png',\n",
              " '타원형_하양-200708456.png',\n",
              " '원형_분홍-201505853.png',\n",
              " '장방형_갈색-200500772.png',\n",
              " '타원형_하양-201308594.png',\n",
              " '타원형_노랑,투명-200401792.png',\n",
              " '타원형_초록-201801257.png',\n",
              " '장방형_갈색-200500146.png',\n",
              " '사각형_주황-200810427.png',\n",
              " '타원형_하양-201310798.png',\n",
              " '타원형_갈색-201605710.png',\n",
              " '타원형_연두-201100500.png',\n",
              " '원형_분홍-199203481.png',\n",
              " '타원형_노랑,투명-200502840.png',\n",
              " '타원형_노랑-201502493.png',\n",
              " '타원형_하양-201506591.png',\n",
              " '원형_하양-197000102.png',\n",
              " '원형_분홍-200808653.png',\n",
              " '타원형_분홍-200101581.png',\n",
              " '원형_분홍-199604623.png',\n",
              " '원형_하양-201403535.png',\n",
              " '원형_노랑-201402560.png',\n",
              " '장방형_노랑-200500542.png',\n",
              " '장방형_노랑-201404527.png',\n",
              " '타원형_하양-201310381.png',\n",
              " '타원형_빨강-201501086.png',\n",
              " '타원형_노랑-201705509.png',\n",
              " '장방형_갈색-199401092.png',\n",
              " '장방형_노랑-200403446.png',\n",
              " '타원형_하양-201607295.png',\n",
              " '원형_하양-201603587.png',\n",
              " '타원형_초록-199301979.png',\n",
              " '원형_하양-199602981.png',\n",
              " '원형_하양-200302165.png',\n",
              " '원형_회색-200905961.png',\n",
              " '원형_하양-199300325.png',\n",
              " '장방형_노랑-201501325.png',\n",
              " '장방형_파랑-201310660.png',\n",
              " '장방형_주황-199502108.png',\n",
              " '장방형_노랑-200100540.png',\n",
              " '장방형_노랑-199801877.png',\n",
              " '원형_주황-201100904.png',\n",
              " '타원형_하양-201605774.png',\n",
              " '장방형_빨강,투명-200802985.png',\n",
              " '원형_하양-201402821.png',\n",
              " '타원형_갈색-201310717.png',\n",
              " '장방형_초록-200002274.png',\n",
              " '장방형_분홍-200100323.png',\n",
              " '원형_노랑-200800405.png',\n",
              " '원형_하양-200600562.png',\n",
              " '원형_주황-199500850.png',\n",
              " '타원형_하양-201207572.png',\n",
              " '원형_노랑-199100803.png',\n",
              " '원형_분홍-201603999.png',\n",
              " '장방형_연두-200100970.png',\n",
              " '타원형_주황-199302823.png',\n",
              " '원형_주황-199907135.png',\n",
              " '타원형_초록-200202924.png',\n",
              " '장방형_분홍-201506797.png',\n",
              " '장방형_하양-201205573.png',\n",
              " '원형_하양-201103414.png',\n",
              " '타원형_분홍-201310840.png',\n",
              " '타원형_하양-201606793.png',\n",
              " '원형_노랑-201104578.png',\n",
              " '원형_주황-201307135.png',\n",
              " '타원형_하양-200804997.png',\n",
              " '원형_주황-201100951.png',\n",
              " '타원형_갈색-201107689.png',\n",
              " '원형_노랑-199501944.png',\n",
              " '장방형_초록-200512236.png',\n",
              " '타원형_주황-200800347.png',\n",
              " '장방형_갈색-200200896.png',\n",
              " '원형_하양-199501649.png',\n",
              " '장방형_갈색-199300454.png',\n",
              " '원형_하양-199602031.png',\n",
              " '타원형_노랑-201309487.png',\n",
              " '기타_하양-199600888.png',\n",
              " '타원형_주황-201503876.png',\n",
              " '원형_하양-201602339.png',\n",
              " '장방형_노랑-200713094.png',\n",
              " '장방형_노랑-198701124.png',\n",
              " '장방형_주황-198701854.png',\n",
              " '타원형_보라-201403603.png',\n",
              " '원형_노랑-201310934.png',\n",
              " '원형_주황-201307923.png',\n",
              " '원형_하양-200109301.png',\n",
              " '원형_하양-198900463.png',\n",
              " '장방형_빨강-199600091.png',\n",
              " '원형_연두-200402928.png',\n",
              " '장방형_노랑-201400030.png',\n",
              " '원형_주황-200301129.png',\n",
              " '원형_주황-200003538.png',\n",
              " '타원형_하양-201500365.png',\n",
              " '기타_하양-201601050.png',\n",
              " '타원형_하양-200805895.png',\n",
              " '타원형_하양-201207586.png',\n",
              " '타원형_검정-201602637.png',\n",
              " '원형_하양-199400029.png',\n",
              " '장방형_빨강-201700874.png',\n",
              " '타원형_분홍-201504270.png',\n",
              " '장방형_하양-200102762.png',\n",
              " '장방형_주황-200500310.png',\n",
              " '타원형_파랑-200902801.png',\n",
              " '장방형_노랑-201405899.png',\n",
              " '타원형_청록-198801660.png',\n",
              " '원형_하양-200300566.png',\n",
              " '원형_노랑-200706330.png',\n",
              " '원형_하양-201502459.png',\n",
              " '원형_하양-201601207.png',\n",
              " '장방형_분홍-201309618.png',\n",
              " '타원형_하양-201506805.png',\n",
              " '원형_주황-197700008.png',\n",
              " '원형_초록-200902333.png',\n",
              " '장방형_하양-201404470.png',\n",
              " '원형_분홍-201405468.png',\n",
              " '원형_노랑-200709163.png',\n",
              " '원형_분홍-201505163.png',\n",
              " '장방형_하양-201504176.png',\n",
              " '장방형_주황-200403652.png',\n",
              " '원형_하양-201002395.png',\n",
              " '장방형_갈색-201701293.png',\n",
              " '원형_하양-201500624.png',\n",
              " '원형_연두-200503802.png',\n",
              " '원형_하양-200709792.png',\n",
              " '장방형_노랑-200711202.png',\n",
              " '원형_초록-200600172.png',\n",
              " '장방형_갈색-201207624.png',\n",
              " '원형_노랑-201308528.png',\n",
              " '원형_하양-201100972.png',\n",
              " '삼각형_하양-201403550.png',\n",
              " '장방형_연두-200401717.png',\n",
              " '장방형_연두-200400111.png',\n",
              " '원형_하양-201603735.png',\n",
              " '원형_하양-199101124.png',\n",
              " '원형_하양-199902973.png',\n",
              " '타원형_하양-201603092.png',\n",
              " '장방형_갈색-199901837.png',\n",
              " '장방형_초록-201602679.png',\n",
              " '장방형_초록-199802344.png',\n",
              " '장방형_하양-201403975.png',\n",
              " '원형_하양-200004062.png',\n",
              " '원형_주황-201308575.png',\n",
              " '타원형_분홍-200807710.png',\n",
              " '장방형_빨강-200101240.png',\n",
              " '원형_하양-200806490.png',\n",
              " '원형_초록-201307639.png',\n",
              " '장방형_초록-198901608.png',\n",
              " '원형_연두-201403734.png',\n",
              " '타원형_노랑-201405474.png',\n",
              " '장방형_파랑-201001637.png',\n",
              " '장방형_빨강-201003655.png',\n",
              " '원형_분홍-200500873.png',\n",
              " '원형_분홍-201604907.png',\n",
              " '장방형_주황-200501168.png',\n",
              " '원형_하양-200002924.png',\n",
              " '장방형_보라-201405033.png',\n",
              " '원형_하양-200704989.png',\n",
              " '장방형_노랑-200701403.png',\n",
              " '장방형_검정-200103425.png',\n",
              " '타원형_하양-200710471.png',\n",
              " '타원형_초록,투명-201403431.png',\n",
              " '타원형_초록-201207068.png',\n",
              " '원형_빨강-200502725.png',\n",
              " '장방형_하양-201500725.png',\n",
              " '장방형_주황-200711477.png',\n",
              " '장방형_초록-201402932.png',\n",
              " '원형_하양-201603148.png',\n",
              " '타원형_하양-200500713.png',\n",
              " '원형_파랑-201309959.png',\n",
              " '원형_노랑-201405073.png',\n",
              " '원형_하양-199703534.png',\n",
              " '원형_하양-200500230.png',\n",
              " '타원형_분홍-201801678.png',\n",
              " '장방형_갈색-200710985.png',\n",
              " '기타_하양-200907984.png',\n",
              " '타원형_주황-200200720.png',\n",
              " '원형_하양-200403438.png',\n",
              " '장방형_갈색-201207636.png',\n",
              " '타원형_초록-200707958.png',\n",
              " '타원형_노랑,투명-200402798.png',\n",
              " '원형_연두-200502362.png',\n",
              " '원형_하양-201101853.png',\n",
              " '장방형_하양-200202833.png',\n",
              " '타원형_하양-201603001.png',\n",
              " '원형_노랑-201202780.png',\n",
              " '장방형_초록-200401401.png',\n",
              " '타원형_분홍-200301825.png',\n",
              " '원형_하양-199800503.png',\n",
              " '원형_하양-199801634.png',\n",
              " '사각형_노랑-200611060.png',\n",
              " '타원형_파랑-201001640.png',\n",
              " '타원형_검정-201204387.png',\n",
              " '타원형_분홍-201304664.png',\n",
              " '타원형_하양-200807253.png',\n",
              " '장방형_노랑-201310117.png',\n",
              " '장방형_노랑-200712868.png',\n",
              " '삼각형_노랑-201503485.png',\n",
              " '기타_초록-200402485.png',\n",
              " '원형_주황-200109769.png',\n",
              " '원형_분홍-200711440.png',\n",
              " '원형_노랑-200703132.png',\n",
              " '타원형_분홍-201403935.png',\n",
              " '타원형_파랑-201605611.png',\n",
              " '원형_하양-201600967.png',\n",
              " '타원형_하양-200805090.png',\n",
              " '원형_청록-201507225.png',\n",
              " '원형_하양-201403022.png',\n",
              " '타원형_파랑-201208483.png',\n",
              " '타원형_파랑-201605807.png',\n",
              " '타원형_분홍-200801683.png',\n",
              " '타원형_청록,투명-201103366.png',\n",
              " '장방형_분홍-200801551.png',\n",
              " '타원형_노랑-201205259.png',\n",
              " '원형_하양-197700525.png',\n",
              " '원형_하양-199804334.png',\n",
              " '장방형_노랑-201506654.png',\n",
              " '타원형_초록-200704014.png',\n",
              " '원형_하양-201708419.png',\n",
              " '원형_주황-201308560.png',\n",
              " '원형_하양-200401210.png',\n",
              " '원형_하양-200808004.png',\n",
              " '원형_하양-201603318.png',\n",
              " '원형_하양-200604167.png',\n",
              " '원형_분홍-199403307.png',\n",
              " '원형_하양-201307338.png',\n",
              " '삼각형_분홍-201306425.png',\n",
              " '원형_하양-199900626.png',\n",
              " '장방형_하양-201500856.png',\n",
              " '장방형_하양-201306530.png',\n",
              " '장방형_하양-199303749.png',\n",
              " '원형_파랑-200403056.png',\n",
              " '원형_하양-199600559.png',\n",
              " '장방형_주황-201109264.png',\n",
              " '원형_분홍-201600210.png',\n",
              " '장방형_주황-198000118.png',\n",
              " '원형_하양-201402707.png',\n",
              " '장방형_하양-201402733.png',\n",
              " '원형_하양-199900886.png',\n",
              " '기타_하양-200308497.png',\n",
              " '장방형_초록-200401560.png',\n",
              " '원형_주황-199401632.png',\n",
              " '타원형_빨강-200805382.png',\n",
              " '장방형_빨강-201006119.png',\n",
              " '타원형_주황-201308549.png',\n",
              " '타원형_주황-201006807.png',\n",
              " '원형_주황-199701304.png',\n",
              " '타원형_하양-201106964.png',\n",
              " '타원형_주황-201600362.png',\n",
              " '타원형_연두-200900890.png',\n",
              " '원형_하양-200500830.png',\n",
              " '원형_하양-201100828.png',\n",
              " '원형_노랑-200806253.png',\n",
              " '장방형_하양-201104609.png',\n",
              " '장방형_노랑-201003060.png',\n",
              " '원형_하양-200001305.png',\n",
              " '원형_하양-197300172.png',\n",
              " '장방형_하양-201502555.png',\n",
              " '장방형_초록-201402206.png',\n",
              " '장방형_초록-200009371.png',\n",
              " '타원형_주황-200809710.png',\n",
              " '원형_주황-201702409.png',\n",
              " '타원형_노랑-201706190.png',\n",
              " '장방형_노랑-200712891.png',\n",
              " '원형_하양-199504100.png',\n",
              " '타원형_주황-201104797.png',\n",
              " '타원형_주황-201601742.png',\n",
              " '원형_하양-199400073.png',\n",
              " '장방형_갈색-201307682.png',\n",
              " '장방형_연두-200400030.png',\n",
              " '타원형_노랑-201501734.png',\n",
              " '기타_파랑-200612743.png',\n",
              " '원형_분홍-201701410.png',\n",
              " '타원형_연두-200900376.png',\n",
              " '기타_하양-201802998.png',\n",
              " '원형_노랑-200808880.png',\n",
              " '원형_노랑-200610960.png',\n",
              " '원형_분홍-201403820.png',\n",
              " '원형_파랑-200008961.png',\n",
              " '장방형_갈색-200904950.png',\n",
              " '장방형_갈색-200707402.png',\n",
              " '원형_연두-198500619.png',\n",
              " '원형_노랑-200600543.png',\n",
              " '타원형_주황-200713892.png',\n",
              " '타원형_노랑-199801373.png',\n",
              " '장방형_하양-201110631.png',\n",
              " '원형_초록-200002526.png',\n",
              " '장방형_파랑-200907669.png',\n",
              " '원형_하양-200708377.png',\n",
              " '타원형_하양-200706539.png',\n",
              " '삼각형_주황-200904517.png',\n",
              " '장방형_연두-199901218.png',\n",
              " '원형_하양-200801900.png',\n",
              " '원형_하양-201104470.png',\n",
              " '원형_하양-200400231.png',\n",
              " '원형_하양-199600267.png',\n",
              " '타원형_노랑,투명-201007780.png',\n",
              " '장방형_연두-198700405.png',\n",
              " '장방형_빨강-201109143.png',\n",
              " '타원형_하양-200807985.png',\n",
              " '장방형_갈색-201702735.png',\n",
              " '타원형_하양-201700463.png',\n",
              " '원형_노랑-198902807.png',\n",
              " '장방형_갈색-200810902.png',\n",
              " '장방형_갈색-200501415.png',\n",
              " '장방형_초록-200403532.png',\n",
              " '원형_하양-199401661.png',\n",
              " '장방형_빨강-199400590.png',\n",
              " '타원형_파랑-198901589.png',\n",
              " '원형_빨강-201502461.png',\n",
              " '원형_하양-200001452.png',\n",
              " '원형_빨강-199504263.png',\n",
              " '타원형_노랑-200804556.png',\n",
              " '타원형_분홍-201506791.png',\n",
              " '타원형_노랑-201308480.png',\n",
              " '타원형_하양-201603009.png',\n",
              " '장방형_초록-199801389.png',\n",
              " '장방형_하양-201104111.png',\n",
              " '타원형_빨강-201208470.png',\n",
              " '원형_파랑-198400475.png',\n",
              " '원형_하양-200410941.png',\n",
              " '원형_하양-201306999.png',\n",
              " '원형_분홍-201403217.png',\n",
              " '장방형_초록-199100998.png',\n",
              " '원형_노랑-200510991.png',\n",
              " '원형_하양-199801258.png',\n",
              " '삼각형_노랑-201501128.png',\n",
              " '장방형_남색-199603358.png',\n",
              " '장방형_노랑-199900921.png',\n",
              " '장방형_주황-200607972.png',\n",
              " '장방형_주황-199600913.png',\n",
              " '원형_주황-201602314.png',\n",
              " '원형_하양-201309123.png',\n",
              " '타원형_빨강,투명-201601579.png',\n",
              " '원형_분홍-201105083.png',\n",
              " '원형_하양-200907819.png',\n",
              " '원형_하양-201802736.png',\n",
              " '원형_하양-199602713.png',\n",
              " '장방형_갈색-200400822.png',\n",
              " '원형_노랑-200702543.png',\n",
              " '원형_초록-201504773.png',\n",
              " '원형_하양-198601436.png',\n",
              " '원형_분홍-201506636.png',\n",
              " '원형_노랑-201603688.png',\n",
              " '타원형_파랑-201205329.png',\n",
              " '원형_하양-200401756.png',\n",
              " '장방형_초록-200501307.png',\n",
              " '타원형_분홍-201503326.png',\n",
              " '타원형_하양-201607341.png',\n",
              " '원형_하양-201301656.png',\n",
              " '장방형_분홍-200301245.png',\n",
              " '원형_분홍-201500110.png',\n",
              " '타원형_하양-200906613.png',\n",
              " '기타_주황-200708298.png',\n",
              " '원형_하양-200102228.png',\n",
              " '원형_주황-200809236.png',\n",
              " '원형_하양-200101731.png',\n",
              " '타원형_하양-198901309.png',\n",
              " '타원형_하양-199101279.png',\n",
              " '장방형_초록-199701366.png',\n",
              " '원형_주황-198900886.png',\n",
              " '타원형_주황-200801812.png',\n",
              " '원형_하양-200810766.png',\n",
              " '타원형_하양-199604965.png',\n",
              " '원형_하양-200807540.png',\n",
              " '팔각형_하양-200700602.png',\n",
              " '타원형_초록-200402931.png',\n",
              " '원형_하양-200703078.png',\n",
              " '타원형_하양-200706542.png',\n",
              " '장방형_노랑-200400652.png',\n",
              " '원형_하양-200404656.png',\n",
              " '원형_회색-201507709.png',\n",
              " '타원형_하양-201500731.png',\n",
              " '원형_하양-200002402.png',\n",
              " '원형_노랑-201706212.png',\n",
              " '장방형_노랑-201303039.png',\n",
              " '원형_노랑-199800990.png',\n",
              " '장방형_초록-199703126.png',\n",
              " '타원형_주황-200800284.png',\n",
              " '원형_하양-199501262.png',\n",
              " '타원형_갈색-201000674.png',\n",
              " '원형_노랑-200403081.png',\n",
              " '장방형_파랑-201306370.png',\n",
              " '타원형_주황-201605341.png',\n",
              " '원형_하양-200300802.png',\n",
              " '장방형_갈색-200900723.png',\n",
              " '타원형_하양-201605851.png',\n",
              " '타원형_하양-201000860.png',\n",
              " '장방형_파랑-200903217.png',\n",
              " '장방형_하양-200101317.png',\n",
              " '타원형_하양-200502240.png',\n",
              " '원형_파랑-201310785.png',\n",
              " '원형_분홍-201601638.png',\n",
              " '장방형_하양-199704622.png',\n",
              " '타원형_하양-201603121.png',\n",
              " '원형_하양-201604129.png',\n",
              " '장방형_파랑-200707879.png',\n",
              " '원형_주황-200402943.png',\n",
              " '장방형_하양-201500127.png',\n",
              " '원형_주황-200702734.png',\n",
              " '타원형_하양-200805595.png',\n",
              " '타원형_주황-200704333.png',\n",
              " '사각형_분홍-201604410.png',\n",
              " '타원형_파랑-201605588.png',\n",
              " '장방형_초록-200404157.png',\n",
              " '장방형_주황-201500752.png',\n",
              " '원형_하양-200403041.png',\n",
              " '원형_분홍-201100373.png',\n",
              " '타원형_주황-201309106.png',\n",
              " '타원형_분홍-201310926.png',\n",
              " '원형_하양-200302187.png',\n",
              " '장방형_파랑-201308613.png',\n",
              " '원형_하양-201310336.png',\n",
              " '원형_하양-200411098.png',\n",
              " '원형_하양-200710765.png',\n",
              " '원형_분홍-201303032.png',\n",
              " '타원형_노랑,투명-201501067.png',\n",
              " '원형_분홍-201403542.png',\n",
              " '원형_하양-201603319.png',\n",
              " '장방형_초록-200301667.png',\n",
              " '원형_연두-201003055.png',\n",
              " '원형_하양-198700916.png',\n",
              " '장방형_빨강-201103683.png',\n",
              " '장방형_초록-198900630.png',\n",
              " '원형_노랑-201701161.png',\n",
              " '장방형_주황-200001750.png',\n",
              " '타원형_노랑,투명-201705219.png',\n",
              " '장방형_빨강-200700621.png',\n",
              " '원형_하양-200003667.png',\n",
              " '원형_하양-200708367.png',\n",
              " '장방형_빨강-200400635.png',\n",
              " '타원형_하양-201502566.png',\n",
              " '원형_노랑-201104795.png',\n",
              " '타원형_연두-200901668.png',\n",
              " '원형_노랑-199300758.png',\n",
              " '팔각형_하양-200502010.png',\n",
              " '원형_하양-198600509.png',\n",
              " '오각형_하양-201001745.png',\n",
              " '원형_하양-200704770.png',\n",
              " '타원형_갈색-201701530.png',\n",
              " '장방형_하양-201003998.png',\n",
              " '원형_하양-200502228.png',\n",
              " '원형_노랑-201308434.png',\n",
              " '원형_하양-200404216.png',\n",
              " '원형_분홍-198500306.png',\n",
              " '원형_하양-200200561.png',\n",
              " '타원형_하양-201404797.png',\n",
              " '원형_주황-200500476.png',\n",
              " '장방형_노랑-201401417.png',\n",
              " '원형_하양-198800150.png',\n",
              " '원형_하양-200401405.png',\n",
              " '원형_하양-199101431.png',\n",
              " '원형_하양-199702377.png',\n",
              " '원형_주황-200801972.png',\n",
              " '장방형_연두-200808611.png',\n",
              " '원형_하양-201206759.png',\n",
              " '원형_하양-200605460.png',\n",
              " '장방형_하양-201500736.png',\n",
              " '장방형_갈색-200811442.png',\n",
              " '타원형_하양-200200871.png',\n",
              " '타원형_하양-199100461.png',\n",
              " '원형_분홍-201307451.png',\n",
              " '원형_하양-201006784.png',\n",
              " '원형_하양-201100943.png',\n",
              " '오각형_분홍-200704805.png',\n",
              " '장방형_파랑-200300855.png',\n",
              " '원형_하양-200401370.png',\n",
              " '원형_하양-199500466.png',\n",
              " '기타_초록-200402453.png',\n",
              " '원형_노랑-201309521.png',\n",
              " '원형_노랑-201208080.png',\n",
              " '장방형_하양-201004970.png',\n",
              " '장방형_노랑-201405788.png',\n",
              " '삼각형_하양-201301587.png',\n",
              " '장방형_빨강-201003483.png',\n",
              " '원형_하양-199400034.png',\n",
              " '장방형_주황,투명-200807717.png',\n",
              " '원형_하양-199202946.png',\n",
              " '타원형_파랑-201801982.png',\n",
              " '타원형_하양-200809402.png',\n",
              " '원형_주황-201307584.png',\n",
              " '원형_노랑-201500471.png',\n",
              " '원형_하양-201702130.png',\n",
              " '원형_분홍-201600320.png',\n",
              " '타원형_주황-201307561.png',\n",
              " '장방형_하양-201405516.png',\n",
              " '장방형_하양-201109310.png',\n",
              " '원형_하양-201003205.png',\n",
              " '장방형_파랑-201309579.png',\n",
              " '장방형_분홍-200502133.png',\n",
              " '원형_하양-200400480.png',\n",
              " '원형_하양-201603033.png',\n",
              " '타원형_하양-201403299.png',\n",
              " '타원형_하양-201207689.png',\n",
              " '장방형_빨강,투명-200706907.png',\n",
              " '장방형_갈색-201306969.png',\n",
              " '원형_하양-200300591.png',\n",
              " '타원형_초록-200401853.png',\n",
              " '원형_연두-201606067.png',\n",
              " '타원형_연두-201702265.png',\n",
              " '장방형_노랑-201802335.png',\n",
              " '원형_노랑-200806300.png',\n",
              " '장방형_하양-200100412.png',\n",
              " '타원형_하양-201708316.png',\n",
              " '타원형_파랑-200810114.png',\n",
              " '원형_노랑-200703338.png',\n",
              " '원형_노랑-200704322.png',\n",
              " '장방형_하양-201505123.png',\n",
              " '원형_하양-201501782.png',\n",
              " '원형_하양-201401405.png',\n",
              " '원형_하양-201206704.png',\n",
              " '장방형_연두-201403277.png',\n",
              " '타원형_하양-201103610.png',\n",
              " '타원형_연두-200801461.png',\n",
              " '원형_하양-201602274.png',\n",
              " '원형_하양-200201182.png',\n",
              " '사각형_분홍-200811989.png',\n",
              " '타원형_주황-201602070.png',\n",
              " '원형_노랑-200501291.png',\n",
              " '장방형_하양,노랑-201504046.png',\n",
              " '타원형_분홍-201005699.png',\n",
              " '타원형_하양-200100877.png',\n",
              " '원형_하양-200400920.png',\n",
              " '원형_하양-200003409.png',\n",
              " '장방형_분홍-200009026.png',\n",
              " '장방형_빨강-200101068.png',\n",
              " '원형_주황-200802692.png',\n",
              " '타원형_하양-200805680.png',\n",
              " '원형_분홍-200403291.png',\n",
              " '타원형_하양-200805175.png',\n",
              " '타원형_하양-200001427.png',\n",
              " '타원형_하양-201501607.png',\n",
              " '장방형_청록-201404664.png',\n",
              " '타원형_빨강-201503177.png',\n",
              " '원형_분홍-200611524.png',\n",
              " '원형_하양-201305008.png',\n",
              " '원형_분홍-200803200.png',\n",
              " '장방형_보라-199601139.png',\n",
              " '원형_하양-200904349.png',\n",
              " '타원형_하양-201307723.png',\n",
              " '타원형_노랑-201802050.png',\n",
              " '원형_노랑-201102476.png',\n",
              " '원형_하양-200302050.png',\n",
              " '원형_하양-201604621.png',\n",
              " '원형_하양-200501881.png',\n",
              " '원형_분홍-201404895.png',\n",
              " '원형_분홍-201206333.png',\n",
              " '원형_주황-200100538.png',\n",
              " '원형_노랑-200810959.png',\n",
              " '원형_분홍-201400288.png',\n",
              " '타원형_연두-200900896.png',\n",
              " '장방형_갈색-200201591.png',\n",
              " '장방형_연두-199502584.png',\n",
              " '장방형_빨강-200803417.png',\n",
              " '장방형_파랑-201405793.png',\n",
              " '사각형_노랑-200808076.png',\n",
              " '원형_노랑-200501381.png',\n",
              " '타원형_연두-201501662.png',\n",
              " '원형_주황-200400816.png',\n",
              " '장방형_갈색-201007524.png',\n",
              " '원형_분홍-201308825.png',\n",
              " '장방형_주황-200402090.png',\n",
              " '타원형_하양-201500364.png',\n",
              " '원형_노랑-200703182.png',\n",
              " '장방형_노랑-201103016.png',\n",
              " '타원형_하양-200210859.png',\n",
              " '원형_하양-200100424.png',\n",
              " '원형_하양-200612551.png',\n",
              " '원형_하양-200713053.png',\n",
              " '타원형_하양-201700413.png',\n",
              " '타원형_노랑-200600008.png',\n",
              " '타원형_노랑-201700547.png',\n",
              " '원형_하양-198600117.png',\n",
              " '원형_하양-198501300.png',\n",
              " '원형_하양-200202266.png',\n",
              " '타원형_자주-200102110.png',\n",
              " '원형_하양-200204295.png',\n",
              " '타원형_하양-201309933.png',\n",
              " '장방형_갈색-201603690.png',\n",
              " '장방형_하양-199906840.png',\n",
              " '원형_하양-201302942.png',\n",
              " '원형_파랑-200401373.png',\n",
              " '원형_하양-201003764.png',\n",
              " '장방형_하양-201404011.png',\n",
              " '타원형_분홍-201403707.png',\n",
              " '타원형_주황-201206385.png',\n",
              " '타원형_노랑-201401281.png',\n",
              " '장방형_노랑-201702456.png',\n",
              " '장방형_초록-201700418.png',\n",
              " '원형_하양-197100165.png',\n",
              " '장방형_노랑-200401093.png',\n",
              " '기타_하양-199600201.png',\n",
              " '타원형_주황-201401988.png',\n",
              " '원형_하양-201700478.png',\n",
              " '원형_갈색-199902913.png',\n",
              " '타원형_하양-201101760.png',\n",
              " '장방형_파랑-200404699.png',\n",
              " '기타_파랑-200402944.png',\n",
              " '원형_하양,노랑-200708592.png',\n",
              " '장방형_연두-201500735.png',\n",
              " '원형_노랑-200803805.png',\n",
              " '장방형_빨강-198501107.png',\n",
              " '장방형_갈색-200301216.png',\n",
              " '원형_하양-200702089.png',\n",
              " '원형_하양-199603352.png',\n",
              " '타원형_하양-201004086.png',\n",
              " '원형_분홍-201107519.png',\n",
              " '원형_노랑-200000448.png',\n",
              " '원형_갈색-200713170.png',\n",
              " '타원형_하양-199702177.png',\n",
              " '원형_노랑-201401064.png',\n",
              " '팔각형_분홍-200701020.png',\n",
              " '타원형_분홍-201507871.png',\n",
              " '장방형_빨강-197500274.png',\n",
              " '타원형_하양-201001017.png',\n",
              " '장방형_노랑-199600408.png',\n",
              " '장방형_노랑-201602152.png',\n",
              " '타원형_연두-201405093.png',\n",
              " '장방형_보라-201111091.png',\n",
              " '타원형_주황-201400082.png',\n",
              " '삼각형_하양-201401239.png',\n",
              " '장방형_하양-200209637.png',\n",
              " '원형_하양-201003188.png',\n",
              " '원형_하양-200702692.png',\n",
              " '장방형_분홍-199903340.png',\n",
              " '장방형_연두-198401252.png',\n",
              " '장방형_갈색-201404924.png',\n",
              " '원형_하양-201701098.png',\n",
              " '원형_하양-199700536.png',\n",
              " '원형_초록-200400974.png',\n",
              " '장방형_초록-199903419.png',\n",
              " '장방형_연두-201300144.png',\n",
              " '장방형_갈색-200402806.png',\n",
              " '타원형_하양-201000828.png',\n",
              " '원형_하양-201206838.png',\n",
              " '원형_하양-201401569.png',\n",
              " '원형_하양-200400565.png',\n",
              " '원형_분홍-200809276.png',\n",
              " '장방형_초록-201602684.png',\n",
              " '장방형_노랑-200002787.png',\n",
              " '타원형_노랑-201404361.png',\n",
              " '원형_하양-201200677.png',\n",
              " '원형_분홍-201601837.png',\n",
              " '원형_하양-201405587.png',\n",
              " '원형_노랑-201403881.png',\n",
              " '원형_하양-200706765.png',\n",
              " '타원형_검정-201306063.png',\n",
              " '타원형_연두-200606808.png',\n",
              " '원형_하양-200402825.png',\n",
              " '원형_하양-199603328.png',\n",
              " '원형_갈색-201502647.png',\n",
              " '원형_하양-198300433.png',\n",
              " '타원형_노랑-201403085.png',\n",
              " '원형_분홍-201607043.png',\n",
              " '장방형_노랑-200400218.png',\n",
              " '장방형_주황-199200233.png',\n",
              " '팔각형_분홍-201600572.png',\n",
              " '장방형_갈색-199901289.png',\n",
              " '장방형_초록-200808451.png',\n",
              " '타원형_분홍-200901618.png',\n",
              " '타원형_파랑-201110057.png',\n",
              " '장방형_보라-201005549.png',\n",
              " '원형_연두-201309018.png',\n",
              " '원형_분홍-201506641.png',\n",
              " '원형_분홍-201801536.png',\n",
              " '원형_갈색-200005080.png',\n",
              " '타원형_분홍-201607032.png',\n",
              " '장방형_주황-200400217.png',\n",
              " '원형_주황-200707896.png',\n",
              " '삼각형_노랑-201503596.png',\n",
              " '장방형_노랑-200804946.png',\n",
              " '원형_주황-199002108.png',\n",
              " '원형_하양-200904207.png',\n",
              " '원형_갈색-200501239.png',\n",
              " '원형_하양-198301120.png',\n",
              " '원형_하양-201003213.png',\n",
              " '원형_노랑-201503515.png',\n",
              " '원형_주황-200108424.png',\n",
              " '장방형_하양-200100773.png',\n",
              " '원형_하양-200701200.png',\n",
              " '장방형_갈색-199802576.png',\n",
              " '원형_하양-199001832.png',\n",
              " '타원형_청록,투명-201404841.png',\n",
              " '원형_하양-200003442.png',\n",
              " '타원형_초록,투명-201404850.png',\n",
              " '원형_주황-201306430.png',\n",
              " '장방형_파랑-200402396.png',\n",
              " '기타_파랑-201802720.png',\n",
              " '원형_분홍-201000979.png',\n",
              " '타원형_하양-201605775.png',\n",
              " '타원형_하양-201109258.png',\n",
              " '사각형_초록-200403276.png',\n",
              " '원형_갈색-201502573.png',\n",
              " '육각형_파랑-201203613.png',\n",
              " '장방형_연두-201404438.png',\n",
              " '타원형_노랑-200000767.png',\n",
              " '원형_분홍-201207587.png',\n",
              " '타원형_갈색-201503324.png',\n",
              " '타원형_연두-201502761.png',\n",
              " ...]"
            ]
          },
          "metadata": {
            "tags": []
          },
          "execution_count": 17
        }
      ]
    },
    {
      "cell_type": "code",
      "metadata": {
        "colab": {
          "base_uri": "https://localhost:8080/"
        },
        "id": "eb6OjHaw-24t",
        "outputId": "6d72e484-c50f-461e-f02e-4930a1e3fb66"
      },
      "source": [
        "file_list[9].split(\"-\")[0].split(\"_\")"
      ],
      "execution_count": 18,
      "outputs": [
        {
          "output_type": "execute_result",
          "data": {
            "text/plain": [
              "['장방형', '연두']"
            ]
          },
          "metadata": {
            "tags": []
          },
          "execution_count": 18
        }
      ]
    },
    {
      "cell_type": "code",
      "metadata": {
        "id": "sBur5xNkulsf"
      },
      "source": [
        "# 데이터와 라벨을 초기화\n",
        "data = []\n",
        "labels = []"
      ],
      "execution_count": 65,
      "outputs": []
    },
    {
      "cell_type": "code",
      "metadata": {
        "id": "NYWtQ70NPNpJ"
      },
      "source": [
        "\n",
        "for imagePath in file_list:\n",
        "  image = cv2.imread('/content/removebgimg/'+imagePath)\n",
        "  # print(image)\n",
        "  if image is not None : \n",
        "    image = cv2.resize(image,(IMAGE_DIMS[1],IMAGE_DIMS[0]))\n",
        "    image = img_to_array(image)\n",
        "    data.append(image)\n",
        " \n",
        "    # # # 이미지 경로에서 라벨을 추출한 후, 라벨 리스트를 업데이트\n",
        "    l = label = imagePath.split(\"-\")[0].split(\"_\")\n",
        "    labels.append(l)"
      ],
      "execution_count": 66,
      "outputs": []
    },
    {
      "cell_type": "code",
      "metadata": {
        "id": "LS5heZjkFTtC",
        "colab": {
          "base_uri": "https://localhost:8080/"
        },
        "outputId": "f0fc9c2b-78d7-49bc-e22e-4fe6ba70355b"
      },
      "source": [
        "len(data)"
      ],
      "execution_count": 33,
      "outputs": [
        {
          "output_type": "execute_result",
          "data": {
            "text/plain": [
              "18963"
            ]
          },
          "metadata": {
            "tags": []
          },
          "execution_count": 33
        }
      ]
    },
    {
      "cell_type": "code",
      "metadata": {
        "colab": {
          "base_uri": "https://localhost:8080/"
        },
        "id": "bCWPnm86q6Zh",
        "outputId": "505b91d1-2aaa-4cd3-e24a-145e610c86b6"
      },
      "source": [
        "labels[:10]"
      ],
      "execution_count": 34,
      "outputs": [
        {
          "output_type": "execute_result",
          "data": {
            "text/plain": [
              "[['원형', '하양'],\n",
              " ['삼각형', '연두'],\n",
              " ['원형', '하양'],\n",
              " ['장방형', '초록'],\n",
              " ['타원형', '하양'],\n",
              " ['타원형', '하양'],\n",
              " ['원형', '연두'],\n",
              " ['장방형', '갈색'],\n",
              " ['장방형', '노랑'],\n",
              " ['장방형', '연두']]"
            ]
          },
          "metadata": {
            "tags": []
          },
          "execution_count": 34
        }
      ]
    },
    {
      "cell_type": "code",
      "metadata": {
        "id": "lpJ2YXPyCqkH"
      },
      "source": [
        ""
      ],
      "execution_count": null,
      "outputs": []
    },
    {
      "cell_type": "code",
      "metadata": {
        "colab": {
          "base_uri": "https://localhost:8080/"
        },
        "id": "2oNR38yL_new",
        "outputId": "17f4414c-486a-4a3f-9ae9-42fa2aa063da"
      },
      "source": [
        "import tensorflow as tf\n",
        "print(tf.__version__)\n",
        "\n",
        "tf.test.is_gpu_available(\n",
        "    cuda_only=False,\n",
        "    min_cuda_compute_capability=None\n",
        ")"
      ],
      "execution_count": 36,
      "outputs": [
        {
          "output_type": "stream",
          "text": [
            "2.5.0\n"
          ],
          "name": "stdout"
        },
        {
          "output_type": "execute_result",
          "data": {
            "text/plain": [
              "True"
            ]
          },
          "metadata": {
            "tags": []
          },
          "execution_count": 36
        }
      ]
    },
    {
      "cell_type": "code",
      "metadata": {
        "id": "1ds69wiOBeKv"
      },
      "source": [
        "# 모든 픽셀 값이 [0, 1]의 범위 내에 오도록 변환\n",
        "data = np.array(data, dtype=\"float\") / 255.0\n",
        "labels = np.array(labels)"
      ],
      "execution_count": 37,
      "outputs": []
    },
    {
      "cell_type": "code",
      "metadata": {
        "colab": {
          "base_uri": "https://localhost:8080/"
        },
        "id": "e2frUAshDZtQ",
        "outputId": "4e4cd23a-e1c0-449c-9f8e-63e450e62a38"
      },
      "source": [
        "# 라벨 이진화 \n",
        "print(\"[INFO] class labels:\")\n",
        "mlb = MultiLabelBinarizer()\n",
        "labels = mlb.fit_transform(labels)\n",
        " \n",
        "# 나올 수 있는 모든 라벨들을 출력\n",
        "for (i, label) in enumerate(mlb.classes_):\n",
        "  print(\"{}. {}\".format(i + 1, label))"
      ],
      "execution_count": 38,
      "outputs": [
        {
          "output_type": "stream",
          "text": [
            "[INFO] class labels:\n",
            "1. 갈색\n",
            "2. 갈색,진한\n",
            "3. 갈색,투명\n",
            "4. 검정\n",
            "5. 검정,투명\n",
            "6. 기타\n",
            "7. 남색\n",
            "8. 남색,투명\n",
            "9. 노랑\n",
            "10. 노랑,투명\n",
            "11. 마름모형\n",
            "12. 반원형\n",
            "13. 보라\n",
            "14. 보라,투명\n",
            "15. 분홍\n",
            "16. 분홍,옅은\n",
            "17. 분홍,진한\n",
            "18. 분홍,투명\n",
            "19. 빨강\n",
            "20. 빨강,투명\n",
            "21. 사각형\n",
            "22. 삼각형\n",
            "23. 연두\n",
            "24. 연두,투명\n",
            "25. 오각형\n",
            "26. 원형\n",
            "27. 육각형\n",
            "28. 자주\n",
            "29. 자주,투명\n",
            "30. 장방형\n",
            "31. 주황\n",
            "32. 주황,투명\n",
            "33. 청록\n",
            "34. 청록,투명\n",
            "35. 초록\n",
            "36. 초록,투명\n",
            "37. 타원형\n",
            "38. 투명\n",
            "39. 파랑\n",
            "40. 파랑,옅은\n",
            "41. 파랑,투명\n",
            "42. 팔각형\n",
            "43. 하양\n",
            "44. 하양,갈색\n",
            "45. 하양,노랑\n",
            "46. 하양,빨강\n",
            "47. 하양,주황,투명\n",
            "48. 하양,초록\n",
            "49. 하양,투명\n",
            "50. 하양,파랑\n",
            "51. 회색\n"
          ],
          "name": "stdout"
        }
      ]
    },
    {
      "cell_type": "code",
      "metadata": {
        "colab": {
          "base_uri": "https://localhost:8080/"
        },
        "id": "VqK0ngzZD05W",
        "outputId": "e6882eeb-3bb3-4f2a-f299-cb3e61320d13"
      },
      "source": [
        "mlb.transform([(\"원형\", \"노랑\")])"
      ],
      "execution_count": 39,
      "outputs": [
        {
          "output_type": "execute_result",
          "data": {
            "text/plain": [
              "array([[0, 0, 0, 0, 0, 0, 0, 0, 1, 0, 0, 0, 0, 0, 0, 0, 0, 0, 0, 0, 0, 0,\n",
              "        0, 0, 0, 1, 0, 0, 0, 0, 0, 0, 0, 0, 0, 0, 0, 0, 0, 0, 0, 0, 0, 0,\n",
              "        0, 0, 0, 0, 0, 0, 0]])"
            ]
          },
          "metadata": {
            "tags": []
          },
          "execution_count": 39
        }
      ]
    },
    {
      "cell_type": "code",
      "metadata": {
        "id": "f7qcvsgvrwtL"
      },
      "source": [
        ""
      ],
      "execution_count": null,
      "outputs": []
    },
    {
      "cell_type": "code",
      "metadata": {
        "id": "JI9WnabjD6zE"
      },
      "source": [
        "# 데이터의 80%를 학습에, 나머지 20%를 검증에 사용\n",
        "(trainX, testX, trainY, testY) = train_test_split(data,labels, test_size=0.2, random_state=42)\n",
        " \n",
        "# 이미지 오그멘테이션을 위한 제너레이터를 초기화\n",
        "aug = ImageDataGenerator(rotation_range=25, width_shift_range=0.1,\n",
        "\theight_shift_range=0.1, shear_range=0.2, zoom_range=0.2,\n",
        "\thorizontal_flip=True, fill_mode=\"nearest\")"
      ],
      "execution_count": 40,
      "outputs": []
    },
    {
      "cell_type": "code",
      "metadata": {
        "colab": {
          "base_uri": "https://localhost:8080/"
        },
        "id": "8UQ9tZ8y1dWc",
        "outputId": "9e773090-2eeb-41fe-b5e6-caf762fb63be"
      },
      "source": [
        "print(len(trainX))\n",
        "print(len(testX))"
      ],
      "execution_count": 42,
      "outputs": [
        {
          "output_type": "stream",
          "text": [
            "15170\n",
            "3793\n"
          ],
          "name": "stdout"
        }
      ]
    },
    {
      "cell_type": "code",
      "metadata": {
        "colab": {
          "base_uri": "https://localhost:8080/"
        },
        "id": "_8rt2pBH_FT9",
        "outputId": "2003b89f-dacc-4059-f0ff-75466680d3cb"
      },
      "source": [
        "# 각 label 의 분포 확인\n",
        "print(testX[:5])"
      ],
      "execution_count": 63,
      "outputs": [
        {
          "output_type": "stream",
          "text": [
            "[[[[0. 0. 0.]\n",
            "   [0. 0. 0.]\n",
            "   [0. 0. 0.]\n",
            "   ...\n",
            "   [0. 0. 0.]\n",
            "   [0. 0. 0.]\n",
            "   [0. 0. 0.]]\n",
            "\n",
            "  [[0. 0. 0.]\n",
            "   [0. 0. 0.]\n",
            "   [0. 0. 0.]\n",
            "   ...\n",
            "   [0. 0. 0.]\n",
            "   [0. 0. 0.]\n",
            "   [0. 0. 0.]]\n",
            "\n",
            "  [[0. 0. 0.]\n",
            "   [0. 0. 0.]\n",
            "   [0. 0. 0.]\n",
            "   ...\n",
            "   [0. 0. 0.]\n",
            "   [0. 0. 0.]\n",
            "   [0. 0. 0.]]\n",
            "\n",
            "  ...\n",
            "\n",
            "  [[0. 0. 0.]\n",
            "   [0. 0. 0.]\n",
            "   [0. 0. 0.]\n",
            "   ...\n",
            "   [0. 0. 0.]\n",
            "   [0. 0. 0.]\n",
            "   [0. 0. 0.]]\n",
            "\n",
            "  [[0. 0. 0.]\n",
            "   [0. 0. 0.]\n",
            "   [0. 0. 0.]\n",
            "   ...\n",
            "   [0. 0. 0.]\n",
            "   [0. 0. 0.]\n",
            "   [0. 0. 0.]]\n",
            "\n",
            "  [[0. 0. 0.]\n",
            "   [0. 0. 0.]\n",
            "   [0. 0. 0.]\n",
            "   ...\n",
            "   [0. 0. 0.]\n",
            "   [0. 0. 0.]\n",
            "   [0. 0. 0.]]]\n",
            "\n",
            "\n",
            " [[[0. 0. 0.]\n",
            "   [0. 0. 0.]\n",
            "   [0. 0. 0.]\n",
            "   ...\n",
            "   [0. 0. 0.]\n",
            "   [0. 0. 0.]\n",
            "   [0. 0. 0.]]\n",
            "\n",
            "  [[0. 0. 0.]\n",
            "   [0. 0. 0.]\n",
            "   [0. 0. 0.]\n",
            "   ...\n",
            "   [0. 0. 0.]\n",
            "   [0. 0. 0.]\n",
            "   [0. 0. 0.]]\n",
            "\n",
            "  [[0. 0. 0.]\n",
            "   [0. 0. 0.]\n",
            "   [0. 0. 0.]\n",
            "   ...\n",
            "   [0. 0. 0.]\n",
            "   [0. 0. 0.]\n",
            "   [0. 0. 0.]]\n",
            "\n",
            "  ...\n",
            "\n",
            "  [[0. 0. 0.]\n",
            "   [0. 0. 0.]\n",
            "   [0. 0. 0.]\n",
            "   ...\n",
            "   [0. 0. 0.]\n",
            "   [0. 0. 0.]\n",
            "   [0. 0. 0.]]\n",
            "\n",
            "  [[0. 0. 0.]\n",
            "   [0. 0. 0.]\n",
            "   [0. 0. 0.]\n",
            "   ...\n",
            "   [0. 0. 0.]\n",
            "   [0. 0. 0.]\n",
            "   [0. 0. 0.]]\n",
            "\n",
            "  [[0. 0. 0.]\n",
            "   [0. 0. 0.]\n",
            "   [0. 0. 0.]\n",
            "   ...\n",
            "   [0. 0. 0.]\n",
            "   [0. 0. 0.]\n",
            "   [0. 0. 0.]]]\n",
            "\n",
            "\n",
            " [[[0. 0. 0.]\n",
            "   [0. 0. 0.]\n",
            "   [0. 0. 0.]\n",
            "   ...\n",
            "   [0. 0. 0.]\n",
            "   [0. 0. 0.]\n",
            "   [0. 0. 0.]]\n",
            "\n",
            "  [[0. 0. 0.]\n",
            "   [0. 0. 0.]\n",
            "   [0. 0. 0.]\n",
            "   ...\n",
            "   [0. 0. 0.]\n",
            "   [0. 0. 0.]\n",
            "   [0. 0. 0.]]\n",
            "\n",
            "  [[0. 0. 0.]\n",
            "   [0. 0. 0.]\n",
            "   [0. 0. 0.]\n",
            "   ...\n",
            "   [0. 0. 0.]\n",
            "   [0. 0. 0.]\n",
            "   [0. 0. 0.]]\n",
            "\n",
            "  ...\n",
            "\n",
            "  [[0. 0. 0.]\n",
            "   [0. 0. 0.]\n",
            "   [0. 0. 0.]\n",
            "   ...\n",
            "   [0. 0. 0.]\n",
            "   [0. 0. 0.]\n",
            "   [0. 0. 0.]]\n",
            "\n",
            "  [[0. 0. 0.]\n",
            "   [0. 0. 0.]\n",
            "   [0. 0. 0.]\n",
            "   ...\n",
            "   [0. 0. 0.]\n",
            "   [0. 0. 0.]\n",
            "   [0. 0. 0.]]\n",
            "\n",
            "  [[0. 0. 0.]\n",
            "   [0. 0. 0.]\n",
            "   [0. 0. 0.]\n",
            "   ...\n",
            "   [0. 0. 0.]\n",
            "   [0. 0. 0.]\n",
            "   [0. 0. 0.]]]\n",
            "\n",
            "\n",
            " [[[0. 0. 0.]\n",
            "   [0. 0. 0.]\n",
            "   [0. 0. 0.]\n",
            "   ...\n",
            "   [0. 0. 0.]\n",
            "   [0. 0. 0.]\n",
            "   [0. 0. 0.]]\n",
            "\n",
            "  [[0. 0. 0.]\n",
            "   [0. 0. 0.]\n",
            "   [0. 0. 0.]\n",
            "   ...\n",
            "   [0. 0. 0.]\n",
            "   [0. 0. 0.]\n",
            "   [0. 0. 0.]]\n",
            "\n",
            "  [[0. 0. 0.]\n",
            "   [0. 0. 0.]\n",
            "   [0. 0. 0.]\n",
            "   ...\n",
            "   [0. 0. 0.]\n",
            "   [0. 0. 0.]\n",
            "   [0. 0. 0.]]\n",
            "\n",
            "  ...\n",
            "\n",
            "  [[0. 0. 0.]\n",
            "   [0. 0. 0.]\n",
            "   [0. 0. 0.]\n",
            "   ...\n",
            "   [0. 0. 0.]\n",
            "   [0. 0. 0.]\n",
            "   [0. 0. 0.]]\n",
            "\n",
            "  [[0. 0. 0.]\n",
            "   [0. 0. 0.]\n",
            "   [0. 0. 0.]\n",
            "   ...\n",
            "   [0. 0. 0.]\n",
            "   [0. 0. 0.]\n",
            "   [0. 0. 0.]]\n",
            "\n",
            "  [[0. 0. 0.]\n",
            "   [0. 0. 0.]\n",
            "   [0. 0. 0.]\n",
            "   ...\n",
            "   [0. 0. 0.]\n",
            "   [0. 0. 0.]\n",
            "   [0. 0. 0.]]]\n",
            "\n",
            "\n",
            " [[[0. 0. 0.]\n",
            "   [0. 0. 0.]\n",
            "   [0. 0. 0.]\n",
            "   ...\n",
            "   [0. 0. 0.]\n",
            "   [0. 0. 0.]\n",
            "   [0. 0. 0.]]\n",
            "\n",
            "  [[0. 0. 0.]\n",
            "   [0. 0. 0.]\n",
            "   [0. 0. 0.]\n",
            "   ...\n",
            "   [0. 0. 0.]\n",
            "   [0. 0. 0.]\n",
            "   [0. 0. 0.]]\n",
            "\n",
            "  [[0. 0. 0.]\n",
            "   [0. 0. 0.]\n",
            "   [0. 0. 0.]\n",
            "   ...\n",
            "   [0. 0. 0.]\n",
            "   [0. 0. 0.]\n",
            "   [0. 0. 0.]]\n",
            "\n",
            "  ...\n",
            "\n",
            "  [[0. 0. 0.]\n",
            "   [0. 0. 0.]\n",
            "   [0. 0. 0.]\n",
            "   ...\n",
            "   [0. 0. 0.]\n",
            "   [0. 0. 0.]\n",
            "   [0. 0. 0.]]\n",
            "\n",
            "  [[0. 0. 0.]\n",
            "   [0. 0. 0.]\n",
            "   [0. 0. 0.]\n",
            "   ...\n",
            "   [0. 0. 0.]\n",
            "   [0. 0. 0.]\n",
            "   [0. 0. 0.]]\n",
            "\n",
            "  [[0. 0. 0.]\n",
            "   [0. 0. 0.]\n",
            "   [0. 0. 0.]\n",
            "   ...\n",
            "   [0. 0. 0.]\n",
            "   [0. 0. 0.]\n",
            "   [0. 0. 0.]]]]\n"
          ],
          "name": "stdout"
        }
      ]
    },
    {
      "cell_type": "code",
      "metadata": {
        "id": "8sZVitWDr0vs"
      },
      "source": [
        "data = []\n",
        "labels = []"
      ],
      "execution_count": 43,
      "outputs": []
    },
    {
      "cell_type": "code",
      "metadata": {
        "colab": {
          "base_uri": "https://localhost:8080/"
        },
        "id": "vPlQ3mrVD-11",
        "outputId": "bf6beeb4-1fdc-4b16-bac7-c4ed4ec101a4"
      },
      "source": [
        "# 다중 라벨 분류를 수행할 수 있도록 sigmoid 활성화 함수를\n",
        "# 네트워크의 마지막 레이어로 설정\n",
        "print(\"[INFO] compiling model...\")\n",
        "model = SmallerVGGNet.build(\n",
        "\twidth=IMAGE_DIMS[1], height=IMAGE_DIMS[0],\n",
        "\tdepth=IMAGE_DIMS[2], classes=len(mlb.classes_),\n",
        "\tfinalAct=\"sigmoid\")\n",
        "\n",
        "# 옵티마이저 초기화\n",
        "opt = Adam(lr=INIT_LR, decay=INIT_LR / EPOCHS)"
      ],
      "execution_count": 44,
      "outputs": [
        {
          "output_type": "stream",
          "text": [
            "[INFO] compiling model...\n"
          ],
          "name": "stdout"
        },
        {
          "output_type": "stream",
          "text": [
            "/usr/local/lib/python3.7/dist-packages/tensorflow/python/keras/optimizer_v2/optimizer_v2.py:375: UserWarning: The `lr` argument is deprecated, use `learning_rate` instead.\n",
            "  \"The `lr` argument is deprecated, use `learning_rate` instead.\")\n"
          ],
          "name": "stderr"
        }
      ]
    },
    {
      "cell_type": "code",
      "metadata": {
        "colab": {
          "base_uri": "https://localhost:8080/"
        },
        "id": "JwmhVUpZEEJm",
        "outputId": "faa1d9c5-dd64-4ae7-f8c2-953b4dfe2831"
      },
      "source": [
        "# 각각의 결과 라벨을 독립적인 베르누이 분포로 취급하기 위해\n",
        "# 범주형 교차 엔트로피 대신 이진 교차 엔트로피를 사용하여 모델을 컴파일\n",
        "model.compile(loss=\"binary_crossentropy\", optimizer=opt,\n",
        "\tmetrics=[\"accuracy\"])\n",
        " \n",
        "# 네트워크 학습\n",
        "print(\"[INFO] training network...\")\n",
        "H = model.fit_generator(\n",
        "\taug.flow(trainX, trainY, batch_size=BS),\n",
        "\tvalidation_data=(testX, testY),\n",
        "\tsteps_per_epoch=len(trainX) // BS,\n",
        "\tepochs=EPOCHS, verbose=1)"
      ],
      "execution_count": 45,
      "outputs": [
        {
          "output_type": "stream",
          "text": [
            "[INFO] training network...\n"
          ],
          "name": "stdout"
        },
        {
          "output_type": "stream",
          "text": [
            "/usr/local/lib/python3.7/dist-packages/keras/engine/training.py:1915: UserWarning: `Model.fit_generator` is deprecated and will be removed in a future version. Please use `Model.fit`, which supports generators.\n",
            "  warnings.warn('`Model.fit_generator` is deprecated and '\n"
          ],
          "name": "stderr"
        },
        {
          "output_type": "stream",
          "text": [
            "Epoch 1/75\n",
            "474/474 [==============================] - 82s 73ms/step - loss: 0.3815 - accuracy: 0.1677 - val_loss: 0.1961 - val_accuracy: 0.1904\n",
            "Epoch 2/75\n",
            "474/474 [==============================] - 33s 69ms/step - loss: 0.0561 - accuracy: 0.3284 - val_loss: 0.0569 - val_accuracy: 0.2468\n",
            "Epoch 3/75\n",
            "474/474 [==============================] - 33s 69ms/step - loss: 0.0478 - accuracy: 0.3465 - val_loss: 0.0552 - val_accuracy: 0.4801\n",
            "Epoch 4/75\n",
            "474/474 [==============================] - 32s 68ms/step - loss: 0.0445 - accuracy: 0.3451 - val_loss: 0.1787 - val_accuracy: 0.4005\n",
            "Epoch 5/75\n",
            "474/474 [==============================] - 33s 69ms/step - loss: 0.0424 - accuracy: 0.3383 - val_loss: 0.1202 - val_accuracy: 0.4685\n",
            "Epoch 6/75\n",
            "474/474 [==============================] - 33s 69ms/step - loss: 0.0412 - accuracy: 0.3362 - val_loss: 0.0367 - val_accuracy: 0.4126\n",
            "Epoch 7/75\n",
            "474/474 [==============================] - 33s 69ms/step - loss: 0.0354 - accuracy: 0.3607 - val_loss: 0.0452 - val_accuracy: 0.5320\n",
            "Epoch 8/75\n",
            "474/474 [==============================] - 32s 68ms/step - loss: 0.0352 - accuracy: 0.3416 - val_loss: 0.0892 - val_accuracy: 0.4751\n",
            "Epoch 9/75\n",
            "474/474 [==============================] - 33s 69ms/step - loss: 0.0360 - accuracy: 0.3240 - val_loss: 0.0307 - val_accuracy: 0.3646\n",
            "Epoch 10/75\n",
            "474/474 [==============================] - 32s 68ms/step - loss: 0.0325 - accuracy: 0.3304 - val_loss: 0.0390 - val_accuracy: 0.2687\n",
            "Epoch 11/75\n",
            "474/474 [==============================] - 32s 68ms/step - loss: 0.0332 - accuracy: 0.3282 - val_loss: 0.0553 - val_accuracy: 0.3535\n",
            "Epoch 12/75\n",
            "474/474 [==============================] - 33s 69ms/step - loss: 0.0318 - accuracy: 0.3286 - val_loss: 0.0783 - val_accuracy: 0.4131\n",
            "Epoch 13/75\n",
            "474/474 [==============================] - 32s 68ms/step - loss: 0.0303 - accuracy: 0.3451 - val_loss: 0.0271 - val_accuracy: 0.3749\n",
            "Epoch 14/75\n",
            "474/474 [==============================] - 33s 69ms/step - loss: 0.0295 - accuracy: 0.3486 - val_loss: 0.0255 - val_accuracy: 0.3272\n",
            "Epoch 15/75\n",
            "474/474 [==============================] - 32s 68ms/step - loss: 0.0296 - accuracy: 0.3615 - val_loss: 0.0364 - val_accuracy: 0.4822\n",
            "Epoch 16/75\n",
            "474/474 [==============================] - 32s 68ms/step - loss: 0.0296 - accuracy: 0.3576 - val_loss: 0.0265 - val_accuracy: 0.4052\n",
            "Epoch 17/75\n",
            "474/474 [==============================] - 32s 68ms/step - loss: 0.0282 - accuracy: 0.3494 - val_loss: 0.0452 - val_accuracy: 0.4142\n",
            "Epoch 18/75\n",
            "474/474 [==============================] - 33s 69ms/step - loss: 0.0267 - accuracy: 0.3385 - val_loss: 0.0303 - val_accuracy: 0.5318\n",
            "Epoch 19/75\n",
            "474/474 [==============================] - 32s 68ms/step - loss: 0.0271 - accuracy: 0.3544 - val_loss: 0.0717 - val_accuracy: 0.5109\n",
            "Epoch 20/75\n",
            "474/474 [==============================] - 33s 69ms/step - loss: 0.0258 - accuracy: 0.3573 - val_loss: 0.0283 - val_accuracy: 0.3720\n",
            "Epoch 21/75\n",
            "474/474 [==============================] - 33s 69ms/step - loss: 0.0263 - accuracy: 0.3685 - val_loss: 0.0236 - val_accuracy: 0.4071\n",
            "Epoch 22/75\n",
            "474/474 [==============================] - 32s 67ms/step - loss: 0.0304 - accuracy: 0.3741 - val_loss: 0.0280 - val_accuracy: 0.3214\n",
            "Epoch 23/75\n",
            "474/474 [==============================] - 32s 68ms/step - loss: 0.0271 - accuracy: 0.3711 - val_loss: 0.0305 - val_accuracy: 0.3944\n",
            "Epoch 24/75\n",
            "474/474 [==============================] - 32s 68ms/step - loss: 0.0277 - accuracy: 0.3593 - val_loss: 0.0282 - val_accuracy: 0.4060\n",
            "Epoch 25/75\n",
            "474/474 [==============================] - 32s 68ms/step - loss: 0.0246 - accuracy: 0.3754 - val_loss: 0.0214 - val_accuracy: 0.4951\n",
            "Epoch 26/75\n",
            "474/474 [==============================] - 32s 68ms/step - loss: 0.0253 - accuracy: 0.3924 - val_loss: 0.0232 - val_accuracy: 0.3709\n",
            "Epoch 27/75\n",
            "474/474 [==============================] - 33s 69ms/step - loss: 0.0245 - accuracy: 0.3740 - val_loss: 0.0298 - val_accuracy: 0.4922\n",
            "Epoch 28/75\n",
            "474/474 [==============================] - 32s 68ms/step - loss: 0.0242 - accuracy: 0.3643 - val_loss: 0.0236 - val_accuracy: 0.4353\n",
            "Epoch 29/75\n",
            "474/474 [==============================] - 32s 68ms/step - loss: 0.0232 - accuracy: 0.3743 - val_loss: 0.0285 - val_accuracy: 0.3731\n",
            "Epoch 30/75\n",
            "474/474 [==============================] - 32s 68ms/step - loss: 0.0240 - accuracy: 0.3774 - val_loss: 0.0371 - val_accuracy: 0.4479\n",
            "Epoch 31/75\n",
            "474/474 [==============================] - 34s 71ms/step - loss: 0.0238 - accuracy: 0.3605 - val_loss: 0.0281 - val_accuracy: 0.4996\n",
            "Epoch 32/75\n",
            "474/474 [==============================] - 33s 70ms/step - loss: 0.0231 - accuracy: 0.3733 - val_loss: 0.0250 - val_accuracy: 0.5189\n",
            "Epoch 33/75\n",
            "474/474 [==============================] - 33s 69ms/step - loss: 0.0230 - accuracy: 0.3816 - val_loss: 0.0415 - val_accuracy: 0.4065\n",
            "Epoch 34/75\n",
            "474/474 [==============================] - 33s 69ms/step - loss: 0.0229 - accuracy: 0.3813 - val_loss: 0.1059 - val_accuracy: 0.5059\n",
            "Epoch 35/75\n",
            "474/474 [==============================] - 33s 69ms/step - loss: 0.0270 - accuracy: 0.4056 - val_loss: 0.0242 - val_accuracy: 0.3720\n",
            "Epoch 36/75\n",
            "474/474 [==============================] - 33s 70ms/step - loss: 0.0248 - accuracy: 0.3860 - val_loss: 0.0282 - val_accuracy: 0.4453\n",
            "Epoch 37/75\n",
            "474/474 [==============================] - 33s 69ms/step - loss: 0.0232 - accuracy: 0.3873 - val_loss: 0.0380 - val_accuracy: 0.4608\n",
            "Epoch 38/75\n",
            "474/474 [==============================] - 34s 71ms/step - loss: 0.0232 - accuracy: 0.3963 - val_loss: 0.0258 - val_accuracy: 0.3973\n",
            "Epoch 39/75\n",
            "474/474 [==============================] - 34s 72ms/step - loss: 0.0222 - accuracy: 0.3931 - val_loss: 0.0209 - val_accuracy: 0.3380\n",
            "Epoch 40/75\n",
            "474/474 [==============================] - 33s 70ms/step - loss: 0.0228 - accuracy: 0.3768 - val_loss: 0.0400 - val_accuracy: 0.3425\n",
            "Epoch 41/75\n",
            "474/474 [==============================] - 33s 70ms/step - loss: 0.0216 - accuracy: 0.3874 - val_loss: 0.0269 - val_accuracy: 0.3854\n",
            "Epoch 42/75\n",
            "474/474 [==============================] - 33s 71ms/step - loss: 0.0228 - accuracy: 0.3986 - val_loss: 0.0333 - val_accuracy: 0.4405\n",
            "Epoch 43/75\n",
            "474/474 [==============================] - 33s 70ms/step - loss: 0.0212 - accuracy: 0.3897 - val_loss: 0.0472 - val_accuracy: 0.3675\n",
            "Epoch 44/75\n",
            "474/474 [==============================] - 34s 71ms/step - loss: 0.0214 - accuracy: 0.3928 - val_loss: 0.0239 - val_accuracy: 0.4316\n",
            "Epoch 45/75\n",
            "474/474 [==============================] - 34s 71ms/step - loss: 0.0213 - accuracy: 0.3871 - val_loss: 0.0230 - val_accuracy: 0.4155\n",
            "Epoch 46/75\n",
            "474/474 [==============================] - 33s 70ms/step - loss: 0.0215 - accuracy: 0.3932 - val_loss: 0.0243 - val_accuracy: 0.3187\n",
            "Epoch 47/75\n",
            "474/474 [==============================] - 33s 70ms/step - loss: 0.0217 - accuracy: 0.3980 - val_loss: 0.0224 - val_accuracy: 0.4572\n",
            "Epoch 48/75\n",
            "474/474 [==============================] - 32s 68ms/step - loss: 0.0207 - accuracy: 0.4059 - val_loss: 0.0222 - val_accuracy: 0.3201\n",
            "Epoch 49/75\n",
            "474/474 [==============================] - 32s 68ms/step - loss: 0.0207 - accuracy: 0.3862 - val_loss: 0.0225 - val_accuracy: 0.4034\n",
            "Epoch 50/75\n",
            "474/474 [==============================] - 32s 67ms/step - loss: 0.0208 - accuracy: 0.3984 - val_loss: 0.0198 - val_accuracy: 0.3612\n",
            "Epoch 51/75\n",
            "474/474 [==============================] - 32s 68ms/step - loss: 0.0205 - accuracy: 0.4083 - val_loss: 0.0520 - val_accuracy: 0.4909\n",
            "Epoch 52/75\n",
            "474/474 [==============================] - 33s 69ms/step - loss: 0.0212 - accuracy: 0.4000 - val_loss: 0.0225 - val_accuracy: 0.4276\n",
            "Epoch 53/75\n",
            "474/474 [==============================] - 32s 68ms/step - loss: 0.0211 - accuracy: 0.4126 - val_loss: 0.0361 - val_accuracy: 0.3499\n",
            "Epoch 54/75\n",
            "474/474 [==============================] - 32s 68ms/step - loss: 0.0200 - accuracy: 0.3882 - val_loss: 0.0372 - val_accuracy: 0.4759\n",
            "Epoch 55/75\n",
            "474/474 [==============================] - 33s 69ms/step - loss: 0.0205 - accuracy: 0.4112 - val_loss: 0.0248 - val_accuracy: 0.2900\n",
            "Epoch 56/75\n",
            "474/474 [==============================] - 32s 68ms/step - loss: 0.0196 - accuracy: 0.3837 - val_loss: 0.0612 - val_accuracy: 0.5123\n",
            "Epoch 57/75\n",
            "474/474 [==============================] - 33s 69ms/step - loss: 0.0240 - accuracy: 0.3973 - val_loss: 0.0246 - val_accuracy: 0.2911\n",
            "Epoch 58/75\n",
            "474/474 [==============================] - 32s 68ms/step - loss: 0.0200 - accuracy: 0.3874 - val_loss: 0.0215 - val_accuracy: 0.2958\n",
            "Epoch 59/75\n",
            "474/474 [==============================] - 32s 68ms/step - loss: 0.0214 - accuracy: 0.3742 - val_loss: 0.0245 - val_accuracy: 0.2900\n",
            "Epoch 60/75\n",
            "474/474 [==============================] - 32s 68ms/step - loss: 0.0206 - accuracy: 0.3805 - val_loss: 0.0205 - val_accuracy: 0.3723\n",
            "Epoch 61/75\n",
            "474/474 [==============================] - 32s 68ms/step - loss: 0.0197 - accuracy: 0.4104 - val_loss: 0.0250 - val_accuracy: 0.3290\n",
            "Epoch 62/75\n",
            "474/474 [==============================] - 32s 68ms/step - loss: 0.0189 - accuracy: 0.4051 - val_loss: 0.0240 - val_accuracy: 0.4698\n",
            "Epoch 63/75\n",
            "474/474 [==============================] - 33s 69ms/step - loss: 0.0197 - accuracy: 0.3997 - val_loss: 0.0196 - val_accuracy: 0.3799\n",
            "Epoch 64/75\n",
            "474/474 [==============================] - 32s 68ms/step - loss: 0.0185 - accuracy: 0.4079 - val_loss: 0.0264 - val_accuracy: 0.3683\n",
            "Epoch 65/75\n",
            "474/474 [==============================] - 32s 68ms/step - loss: 0.0195 - accuracy: 0.4041 - val_loss: 0.0278 - val_accuracy: 0.3285\n",
            "Epoch 66/75\n",
            "474/474 [==============================] - 32s 68ms/step - loss: 0.0193 - accuracy: 0.3982 - val_loss: 0.0193 - val_accuracy: 0.3477\n",
            "Epoch 67/75\n",
            "474/474 [==============================] - 32s 68ms/step - loss: 0.0192 - accuracy: 0.3819 - val_loss: 0.0215 - val_accuracy: 0.4076\n",
            "Epoch 68/75\n",
            "474/474 [==============================] - 33s 69ms/step - loss: 0.0192 - accuracy: 0.3913 - val_loss: 0.0204 - val_accuracy: 0.3654\n",
            "Epoch 69/75\n",
            "474/474 [==============================] - 32s 68ms/step - loss: 0.0185 - accuracy: 0.4042 - val_loss: 0.0258 - val_accuracy: 0.4237\n",
            "Epoch 70/75\n",
            "474/474 [==============================] - 32s 68ms/step - loss: 0.0186 - accuracy: 0.4059 - val_loss: 0.0341 - val_accuracy: 0.4084\n",
            "Epoch 71/75\n",
            "474/474 [==============================] - 32s 68ms/step - loss: 0.0203 - accuracy: 0.4040 - val_loss: 0.0201 - val_accuracy: 0.4187\n",
            "Epoch 72/75\n",
            "474/474 [==============================] - 32s 68ms/step - loss: 0.0201 - accuracy: 0.4079 - val_loss: 0.0261 - val_accuracy: 0.4239\n",
            "Epoch 73/75\n",
            "474/474 [==============================] - 33s 69ms/step - loss: 0.0191 - accuracy: 0.3989 - val_loss: 0.0290 - val_accuracy: 0.5479\n",
            "Epoch 74/75\n",
            "474/474 [==============================] - 32s 68ms/step - loss: 0.0188 - accuracy: 0.4108 - val_loss: 0.0205 - val_accuracy: 0.4326\n",
            "Epoch 75/75\n",
            "474/474 [==============================] - 32s 68ms/step - loss: 0.0189 - accuracy: 0.3978 - val_loss: 0.0206 - val_accuracy: 0.4561\n"
          ],
          "name": "stdout"
        }
      ]
    },
    {
      "cell_type": "code",
      "metadata": {
        "colab": {
          "base_uri": "https://localhost:8080/"
        },
        "id": "DiSor1biED_V",
        "outputId": "e5c8e584-d8a6-41aa-fbc2-eb86b663b2a5"
      },
      "source": [
        "# 모델을 디스크에 저장\n",
        "from keras.models import load_model\n",
        "\n",
        "model.save('multilabel_model.h5')\n",
        "\n",
        "# `MultiLabelBinarizer`를 디스크에 저장\n",
        "print(\"[INFO] serializing label binarizer...\")\n",
        "f = open('/content/labelbin.txt', \"wb\")\n",
        "f.write(pickle.dumps(mlb))\n",
        "f.close()"
      ],
      "execution_count": 46,
      "outputs": [
        {
          "output_type": "stream",
          "text": [
            "[INFO] serializing label binarizer...\n"
          ],
          "name": "stdout"
        }
      ]
    },
    {
      "cell_type": "code",
      "metadata": {
        "colab": {
          "base_uri": "https://localhost:8080/",
          "height": 315
        },
        "id": "qIOh-AxGE1B2",
        "outputId": "373e2456-d634-4c20-b258-0e3fa1f127fa"
      },
      "source": [
        "from matplotlib import pyplot as plt\n",
        "%matplotlib inline\n",
        "# 학습 로스와 정확도를 그래프로 확인\n",
        "plt.style.use(\"ggplot\")\n",
        "plt.figure()\n",
        "N = EPOCHS\n",
        "plt.plot(np.arange(0, N), H.history[\"loss\"], label=\"train_loss\")\n",
        "plt.plot(np.arange(0, N), H.history[\"val_loss\"], label=\"val_loss\")\n",
        "plt.plot(np.arange(0, N), H.history[\"accuracy\"], label=\"train_acc\")\n",
        "plt.plot(np.arange(0, N), H.history[\"val_accuracy\"], label=\"val_acc\")\n",
        "plt.title(\"Training Loss and Accuracy\")\n",
        "plt.xlabel(\"Epoch #\")\n",
        "plt.ylabel(\"Loss/Accuracy\")\n",
        "plt.legend(loc=\"upper left\")\n",
        "plt.show()\n",
        "plt.savefig(args[\"plot\"])"
      ],
      "execution_count": 47,
      "outputs": [
        {
          "output_type": "display_data",
          "data": {
            "image/png": "[encoded data removed]",
            "text/plain": [
              "<Figure size 432x288 with 1 Axes>"
            ]
          },
          "metadata": {
            "tags": []
          }
        },
        {
          "output_type": "display_data",
          "data": {
            "text/plain": [
              "<Figure size 432x288 with 0 Axes>"
            ]
          },
          "metadata": {
            "tags": []
          }
        }
      ]
    },
    {
      "cell_type": "code",
      "metadata": {
        "colab": {
          "base_uri": "https://localhost:8080/",
          "height": 500
        },
        "id": "gvGcWUjSHTde",
        "outputId": "b731810a-4749-4765-f841-1c30081663a2"
      },
      "source": [
        "# loss, acc curve\n",
        "\n",
        "acc = H.history['accuracy']\n",
        "val_acc = H.history['val_accuracy']\n",
        "\n",
        "loss = H.history['loss']\n",
        "val_loss = H.history['val_loss']\n",
        "\n",
        "epochs_range = range(EPOCHS)\n",
        "\n",
        "plt.figure(figsize=(8, 8))\n",
        "plt.subplot(1, 2, 1)\n",
        "plt.plot(epochs_range, acc, label='Training Accuracy')\n",
        "plt.plot(epochs_range, val_acc, label='Validation Accuracy')\n",
        "plt.legend(loc='lower right')\n",
        "plt.title('Training and Valid Accuracy')\n",
        "\n",
        "plt.subplot(1, 2, 2)\n",
        "plt.plot(epochs_range, loss, label='Training Loss')\n",
        "plt.plot(epochs_range, val_loss, label='Validation Loss')\n",
        "plt.legend(loc='upper right')\n",
        "plt.title('Training and Valid Loss')\n",
        "plt.show()"
      ],
      "execution_count": 48,
      "outputs": [
        {
          "output_type": "display_data",
          "data": {
            "image/png": "[encoded data removed]",
            "text/plain": [
              "<Figure size 576x576 with 2 Axes>"
            ]
          },
          "metadata": {
            "tags": []
          }
        }
      ]
    },
    {
      "cell_type": "markdown",
      "metadata": {
        "id": "5WhnuGHyGsAB"
      },
      "source": [
        "새로운 이미지에 적용"
      ]
    },
    {
      "cell_type": "code",
      "metadata": {
        "id": "ihw_0lWVIcPR"
      },
      "source": [
        "\n",
        "from keras.preprocessing.image import img_to_array\n",
        "from keras.models import load_model\n",
        "import numpy as np\n",
        "import argparse\n",
        "import imutils\n",
        "import pickle\n",
        "import cv2\n",
        "import os\n",
        "from google.colab.patches import cv2_imshow\n",
        "from PIL import ImageFont, ImageDraw, Image"
      ],
      "execution_count": 49,
      "outputs": []
    },
    {
      "cell_type": "code",
      "metadata": {
        "id": "X5_Q9LnUE05w"
      },
      "source": [
        "def test(img_dir):\n",
        "  \n",
        "  # 이미지를 로드\n",
        "  image = cv2.imread(img_dir)\n",
        "  output = imutils.resize(image, width=400)\n",
        "  \n",
        "  # # 분류를 위한 이미지 전처리를 수행합니다\n",
        "  image = cv2.resize(image, (96, 96))\n",
        "  image = image.astype(\"float\") / 255.0\n",
        "  image = img_to_array(image)\n",
        "  image = np.expand_dims(image, axis=0)\n",
        "  # # 학습된 네트워크와 `MultiLabelBinarizer`를 로드\n",
        "  print(\"[INFO] loading network...\")\n",
        "  model = load_model('/content/multilabel_model.h5')\n",
        "  mlb = pickle.loads(open('/content/labelbin.txt', \"rb\").read())\n",
        "\n",
        "  # # 이미지에 대한 분류를 수행한 후, \n",
        "  # # 확률이 가장 높은 두 개의 클래스 라벨\n",
        "  print(\"[INFO] classifying image...\")\n",
        "  proba = model.predict(image)[0]\n",
        "  idxs = np.argsort(proba)[::-1][:4]\n",
        "\n",
        "  # # 확률이 높은 라벨들에 대해 아래의 반복문을 수행\n",
        "\n",
        "  for (i, j) in enumerate(idxs):\n",
        "    label = \"{}: {:.2f}%\".format(mlb.classes_[j], proba[j] * 100)\n",
        "    print(label)\n",
        "    \n",
        "  print('////////////////')\n",
        "\n",
        "  #각 라벨에 대한 확률을 출력\n",
        "  # for (label, p) in zip(mlb.classes_, proba):\n",
        "  #   print(\"{}: {:.2f}%\".format(label, p * 100))\n",
        " \n",
        "  # 결과 이미지를 출력\n",
        "  cv2_imshow(output)\n",
        "  cv2.waitKey(0)\n"
      ],
      "execution_count": 56,
      "outputs": []
    },
    {
      "cell_type": "code",
      "metadata": {
        "id": "aJxLB5RuCERF"
      },
      "source": [
        "!unzip -qq \"/content/drive/MyDrive/이게뭐약/구매알약이미지데이터/배경제거/remove1.zip\""
      ],
      "execution_count": 52,
      "outputs": []
    },
    {
      "cell_type": "code",
      "metadata": {
        "id": "pMcODcf6BkcD"
      },
      "source": [
        "test_list = '/content/content/remove1/'"
      ],
      "execution_count": 59,
      "outputs": []
    },
    {
      "cell_type": "code",
      "metadata": {
        "colab": {
          "base_uri": "https://localhost:8080/",
          "height": 533
        },
        "id": "Bd4zRb5H4R4f",
        "outputId": "11fddd1e-6509-4b9f-d3c6-eed28d5218a6"
      },
      "source": [
        "test('/content/content/remove1/197000040_13_1.png')"
      ],
      "execution_count": 57,
      "outputs": [
        {
          "output_type": "stream",
          "text": [
            "[INFO] loading network...\n",
            "[INFO] classifying image...\n",
            "타원형: 59.45%\n",
            "장방형: 25.31%\n",
            "연두: 13.57%\n",
            "초록: 12.11%\n",
            "////////////////\n"
          ],
          "name": "stdout"
        },
        {
          "output_type": "display_data",
          "data": {
            "image/png": "[encoded data removed]",
            "text/plain": [
              "<PIL.Image.Image image mode=RGB size=400x400 at 0x7FF226684B10>"
            ]
          },
          "metadata": {
            "tags": []
          }
        }
      ]
    },
    {
      "cell_type": "code",
      "metadata": {
        "colab": {
          "base_uri": "https://localhost:8080/",
          "height": 672
        },
        "id": "D_rna6fY4nUv",
        "outputId": "69f183aa-e0c1-44c1-ff34-2764ac8759c0"
      },
      "source": [
        "test('/content/test/out4.jpg')"
      ],
      "execution_count": null,
      "outputs": [
        {
          "output_type": "stream",
          "text": [
            "[INFO] loading network...\n",
            "[INFO] classifying image...\n",
            "WARNING:tensorflow:11 out of the last 11 calls to <function Model.make_predict_function.<locals>.predict_function at 0x7f290647f200> triggered tf.function retracing. Tracing is expensive and the excessive number of tracings could be due to (1) creating @tf.function repeatedly in a loop, (2) passing tensors with different shapes, (3) passing Python objects instead of tensors. For (1), please define your @tf.function outside of the loop. For (2), @tf.function has experimental_relax_shapes=True option that relaxes argument shapes that can avoid unnecessary retracing. For (3), please refer to https://www.tensorflow.org/guide/function#controlling_retracing and https://www.tensorflow.org/api_docs/python/tf/function for  more details.\n",
            "초록: 45.30%\n",
            "타원형: 40.91%\n",
            "////////////////\n"
          ],
          "name": "stdout"
        },
        {
          "output_type": "display_data",
          "data": {
            "image/png": "[encoded data removed]",
            "text/plain": [
              "<PIL.Image.Image image mode=RGB size=400x533 at 0x7F29064F7CD0>"
            ]
          },
          "metadata": {
            "tags": []
          }
        }
      ]
    },
    {
      "cell_type": "code",
      "metadata": {
        "colab": {
          "base_uri": "https://localhost:8080/",
          "height": 555
        },
        "id": "k1dqekWb4rjT",
        "outputId": "711eab12-5f0b-4975-d23b-d6d4be5405de"
      },
      "source": [
        "test('/content/test/out5.jpg')"
      ],
      "execution_count": null,
      "outputs": [
        {
          "output_type": "stream",
          "text": [
            "[INFO] loading network...\n",
            "[INFO] classifying image...\n",
            "WARNING:tensorflow:11 out of the last 11 calls to <function Model.make_predict_function.<locals>.predict_function at 0x7f29064918c0> triggered tf.function retracing. Tracing is expensive and the excessive number of tracings could be due to (1) creating @tf.function repeatedly in a loop, (2) passing tensors with different shapes, (3) passing Python objects instead of tensors. For (1), please define your @tf.function outside of the loop. For (2), @tf.function has experimental_relax_shapes=True option that relaxes argument shapes that can avoid unnecessary retracing. For (3), please refer to https://www.tensorflow.org/guide/function#controlling_retracing and https://www.tensorflow.org/api_docs/python/tf/function for  more details.\n",
            "장방형: 98.24%\n",
            "갈색: 83.43%\n",
            "////////////////\n"
          ],
          "name": "stdout"
        },
        {
          "output_type": "display_data",
          "data": {
            "image/png": "[encoded data removed]",
            "text/plain": [
              "<PIL.Image.Image image mode=RGB size=400x416 at 0x7F290639FE10>"
            ]
          },
          "metadata": {
            "tags": []
          }
        }
      ]
    },
    {
      "cell_type": "code",
      "metadata": {
        "colab": {
          "base_uri": "https://localhost:8080/",
          "height": 672
        },
        "id": "wwd8k3774vGP",
        "outputId": "54f5758a-09b7-41e9-fe07-6d57f6c9bf18"
      },
      "source": [
        "test('/content/test/out6.jpg')"
      ],
      "execution_count": null,
      "outputs": [
        {
          "output_type": "stream",
          "text": [
            "[INFO] loading network...\n",
            "[INFO] classifying image...\n",
            "WARNING:tensorflow:11 out of the last 11 calls to <function Model.make_predict_function.<locals>.predict_function at 0x7f29065de0e0> triggered tf.function retracing. Tracing is expensive and the excessive number of tracings could be due to (1) creating @tf.function repeatedly in a loop, (2) passing tensors with different shapes, (3) passing Python objects instead of tensors. For (1), please define your @tf.function outside of the loop. For (2), @tf.function has experimental_relax_shapes=True option that relaxes argument shapes that can avoid unnecessary retracing. For (3), please refer to https://www.tensorflow.org/guide/function#controlling_retracing and https://www.tensorflow.org/api_docs/python/tf/function for  more details.\n",
            "갈색: 83.86%\n",
            "장방형: 81.33%\n",
            "////////////////\n"
          ],
          "name": "stdout"
        },
        {
          "output_type": "display_data",
          "data": {
            "image/png": "[encoded data removed]",
            "text/plain": [
              "<PIL.Image.Image image mode=RGB size=400x533 at 0x7F2911078E90>"
            ]
          },
          "metadata": {
            "tags": []
          }
        }
      ]
    },
    {
      "cell_type": "code",
      "metadata": {
        "colab": {
          "base_uri": "https://localhost:8080/",
          "height": 552
        },
        "id": "XoGTr1yMCWuI",
        "outputId": "ee87a229-2235-46d6-840b-993072849087"
      },
      "source": [
        "test('/content/content/remove1/197000040_10_1.png')"
      ],
      "execution_count": null,
      "outputs": [
        {
          "output_type": "stream",
          "text": [
            "[INFO] loading network...\n",
            "[INFO] classifying image...\n",
            "WARNING:tensorflow:11 out of the last 11 calls to <function Model.make_predict_function.<locals>.predict_function at 0x7f290e538b00> triggered tf.function retracing. Tracing is expensive and the excessive number of tracings could be due to (1) creating @tf.function repeatedly in a loop, (2) passing tensors with different shapes, (3) passing Python objects instead of tensors. For (1), please define your @tf.function outside of the loop. For (2), @tf.function has experimental_relax_shapes=True option that relaxes argument shapes that can avoid unnecessary retracing. For (3), please refer to https://www.tensorflow.org/guide/function#controlling_retracing and https://www.tensorflow.org/api_docs/python/tf/function for  more details.\n",
            "초록: 54.61%\n",
            "장방형: 47.23%\n",
            "////////////////\n"
          ],
          "name": "stdout"
        },
        {
          "output_type": "display_data",
          "data": {
            "image/png": "[encoded data removed]",
            "text/plain": [
              "<PIL.Image.Image image mode=RGB size=400x413 at 0x7F291614CA10>"
            ]
          },
          "metadata": {
            "tags": []
          }
        }
      ]
    },
    {
      "cell_type": "code",
      "metadata": {
        "colab": {
          "base_uri": "https://localhost:8080/",
          "height": 552
        },
        "id": "ZMlw0vmWD6rm",
        "outputId": "aaf190b0-1214-455d-f3e3-a047384705cc"
      },
      "source": [
        "test('/content/test/197000040_10_1.png')"
      ],
      "execution_count": null,
      "outputs": [
        {
          "output_type": "stream",
          "text": [
            "[INFO] loading network...\n",
            "[INFO] classifying image...\n",
            "WARNING:tensorflow:11 out of the last 11 calls to <function Model.make_predict_function.<locals>.predict_function at 0x7f2950350830> triggered tf.function retracing. Tracing is expensive and the excessive number of tracings could be due to (1) creating @tf.function repeatedly in a loop, (2) passing tensors with different shapes, (3) passing Python objects instead of tensors. For (1), please define your @tf.function outside of the loop. For (2), @tf.function has experimental_relax_shapes=True option that relaxes argument shapes that can avoid unnecessary retracing. For (3), please refer to https://www.tensorflow.org/guide/function#controlling_retracing and https://www.tensorflow.org/api_docs/python/tf/function for  more details.\n",
            "장방형: 98.18%\n",
            "초록: 84.64%\n",
            "////////////////\n"
          ],
          "name": "stdout"
        },
        {
          "output_type": "display_data",
          "data": {
            "image/png": "[encoded data removed]",
            "text/plain": [
              "<PIL.Image.Image image mode=RGB size=400x413 at 0x7F290E141350>"
            ]
          },
          "metadata": {
            "tags": []
          }
        }
      ]
    },
    {
      "cell_type": "code",
      "metadata": {
        "colab": {
          "base_uri": "https://localhost:8080/",
          "height": 501
        },
        "id": "DT9TchpdCZ-o",
        "outputId": "110c573f-5961-40b3-825a-d56e117fa37a"
      },
      "source": [
        "test('/content/content/remove1/197900277_10_1.png')"
      ],
      "execution_count": null,
      "outputs": [
        {
          "output_type": "stream",
          "text": [
            "[INFO] loading network...\n",
            "[INFO] classifying image...\n",
            "WARNING:tensorflow:11 out of the last 11 calls to <function Model.make_predict_function.<locals>.predict_function at 0x7f29636ef950> triggered tf.function retracing. Tracing is expensive and the excessive number of tracings could be due to (1) creating @tf.function repeatedly in a loop, (2) passing tensors with different shapes, (3) passing Python objects instead of tensors. For (1), please define your @tf.function outside of the loop. For (2), @tf.function has experimental_relax_shapes=True option that relaxes argument shapes that can avoid unnecessary retracing. For (3), please refer to https://www.tensorflow.org/guide/function#controlling_retracing and https://www.tensorflow.org/api_docs/python/tf/function for  more details.\n",
            "타원형: 86.07%\n",
            "분홍: 80.22%\n",
            "////////////////\n"
          ],
          "name": "stdout"
        },
        {
          "output_type": "display_data",
          "data": {
            "image/png": "[encoded data removed]",
            "text/plain": [
              "<PIL.Image.Image image mode=RGB size=400x362 at 0x7F2906382F50>"
            ]
          },
          "metadata": {
            "tags": []
          }
        }
      ]
    },
    {
      "cell_type": "code",
      "metadata": {
        "colab": {
          "base_uri": "https://localhost:8080/",
          "height": 636
        },
        "id": "lVZ5zyShFLqA",
        "outputId": "c5446725-6757-4bd3-d3dd-9e8bc2363799"
      },
      "source": [
        "test('/content/test/197900277_1_1.png')"
      ],
      "execution_count": null,
      "outputs": [
        {
          "output_type": "stream",
          "text": [
            "[INFO] loading network...\n",
            "[INFO] classifying image...\n",
            "WARNING:tensorflow:11 out of the last 11 calls to <function Model.make_predict_function.<locals>.predict_function at 0x7f29161dd290> triggered tf.function retracing. Tracing is expensive and the excessive number of tracings could be due to (1) creating @tf.function repeatedly in a loop, (2) passing tensors with different shapes, (3) passing Python objects instead of tensors. For (1), please define your @tf.function outside of the loop. For (2), @tf.function has experimental_relax_shapes=True option that relaxes argument shapes that can avoid unnecessary retracing. For (3), please refer to https://www.tensorflow.org/guide/function#controlling_retracing and https://www.tensorflow.org/api_docs/python/tf/function for  more details.\n",
            "타원형: 84.81%\n",
            "분홍: 61.34%\n",
            "////////////////\n"
          ],
          "name": "stdout"
        },
        {
          "output_type": "display_data",
          "data": {
            "image/png": "[encoded data removed]",
            "text/plain": [
              "<PIL.Image.Image image mode=RGB size=400x497 at 0x7F290E541990>"
            ]
          },
          "metadata": {
            "tags": []
          }
        }
      ]
    },
    {
      "cell_type": "code",
      "metadata": {
        "colab": {
          "base_uri": "https://localhost:8080/",
          "height": 539
        },
        "id": "PgyTtKs_Cgt0",
        "outputId": "94d4adb1-807f-4b2b-ad55-510b34ef4ca0"
      },
      "source": [
        "test('/content/content/remove1/198701888_12_1.png')"
      ],
      "execution_count": null,
      "outputs": [
        {
          "output_type": "stream",
          "text": [
            "[INFO] loading network...\n",
            "[INFO] classifying image...\n",
            "WARNING:tensorflow:11 out of the last 11 calls to <function Model.make_predict_function.<locals>.predict_function at 0x7f2916112f80> triggered tf.function retracing. Tracing is expensive and the excessive number of tracings could be due to (1) creating @tf.function repeatedly in a loop, (2) passing tensors with different shapes, (3) passing Python objects instead of tensors. For (1), please define your @tf.function outside of the loop. For (2), @tf.function has experimental_relax_shapes=True option that relaxes argument shapes that can avoid unnecessary retracing. For (3), please refer to https://www.tensorflow.org/guide/function#controlling_retracing and https://www.tensorflow.org/api_docs/python/tf/function for  more details.\n",
            "타원형: 72.68%\n",
            "갈색: 23.04%\n",
            "////////////////\n"
          ],
          "name": "stdout"
        },
        {
          "output_type": "display_data",
          "data": {
            "image/png": "[encoded data removed]",
            "text/plain": [
              "<PIL.Image.Image image mode=RGB size=400x400 at 0x7F290E2ACE90>"
            ]
          },
          "metadata": {
            "tags": []
          }
        }
      ]
    },
    {
      "cell_type": "code",
      "metadata": {
        "colab": {
          "base_uri": "https://localhost:8080/",
          "height": 499
        },
        "id": "q4quPvh-FjKO",
        "outputId": "006d720d-3b53-4333-a7f5-2028e48ad967"
      },
      "source": [
        "test('/content/test/198701888_2_2.png')"
      ],
      "execution_count": null,
      "outputs": [
        {
          "output_type": "stream",
          "text": [
            "[INFO] loading network...\n",
            "[INFO] classifying image...\n",
            "WARNING:tensorflow:11 out of the last 11 calls to <function Model.make_predict_function.<locals>.predict_function at 0x7f2916193a70> triggered tf.function retracing. Tracing is expensive and the excessive number of tracings could be due to (1) creating @tf.function repeatedly in a loop, (2) passing tensors with different shapes, (3) passing Python objects instead of tensors. For (1), please define your @tf.function outside of the loop. For (2), @tf.function has experimental_relax_shapes=True option that relaxes argument shapes that can avoid unnecessary retracing. For (3), please refer to https://www.tensorflow.org/guide/function#controlling_retracing and https://www.tensorflow.org/api_docs/python/tf/function for  more details.\n",
            "노랑: 95.77%\n",
            "타원형: 89.09%\n",
            "////////////////\n"
          ],
          "name": "stdout"
        },
        {
          "output_type": "display_data",
          "data": {
            "image/png": "[encoded data removed]",
            "text/plain": [
              "<PIL.Image.Image image mode=RGB size=400x360 at 0x7F290646BF50>"
            ]
          },
          "metadata": {
            "tags": []
          }
        }
      ]
    },
    {
      "cell_type": "code",
      "metadata": {
        "colab": {
          "base_uri": "https://localhost:8080/",
          "height": 539
        },
        "id": "XNnWLuKoCtvv",
        "outputId": "c55d6c9b-b63c-442f-d044-a73ea85ad1fe"
      },
      "source": [
        "test('/content/content/remove1/198800154_12_1.png')"
      ],
      "execution_count": null,
      "outputs": [
        {
          "output_type": "stream",
          "text": [
            "[INFO] loading network...\n",
            "[INFO] classifying image...\n",
            "WARNING:tensorflow:11 out of the last 11 calls to <function Model.make_predict_function.<locals>.predict_function at 0x7f29063f2dd0> triggered tf.function retracing. Tracing is expensive and the excessive number of tracings could be due to (1) creating @tf.function repeatedly in a loop, (2) passing tensors with different shapes, (3) passing Python objects instead of tensors. For (1), please define your @tf.function outside of the loop. For (2), @tf.function has experimental_relax_shapes=True option that relaxes argument shapes that can avoid unnecessary retracing. For (3), please refer to https://www.tensorflow.org/guide/function#controlling_retracing and https://www.tensorflow.org/api_docs/python/tf/function for  more details.\n",
            "타원형: 95.86%\n",
            "노랑: 22.00%\n",
            "////////////////\n"
          ],
          "name": "stdout"
        },
        {
          "output_type": "display_data",
          "data": {
            "image/png": "[encoded data removed]",
            "text/plain": [
              "<PIL.Image.Image image mode=RGB size=400x400 at 0x7F290E4F2710>"
            ]
          },
          "metadata": {
            "tags": []
          }
        }
      ]
    },
    {
      "cell_type": "code",
      "metadata": {
        "colab": {
          "base_uri": "https://localhost:8080/",
          "height": 539
        },
        "id": "PtkPU62YFxNJ",
        "outputId": "5d757dba-8561-4cb6-c7c7-9f605d4906e9"
      },
      "source": [
        "test('/content/test/198800154_11_1.png')"
      ],
      "execution_count": null,
      "outputs": [
        {
          "output_type": "stream",
          "text": [
            "[INFO] loading network...\n",
            "[INFO] classifying image...\n",
            "WARNING:tensorflow:11 out of the last 11 calls to <function Model.make_predict_function.<locals>.predict_function at 0x7f290632b7a0> triggered tf.function retracing. Tracing is expensive and the excessive number of tracings could be due to (1) creating @tf.function repeatedly in a loop, (2) passing tensors with different shapes, (3) passing Python objects instead of tensors. For (1), please define your @tf.function outside of the loop. For (2), @tf.function has experimental_relax_shapes=True option that relaxes argument shapes that can avoid unnecessary retracing. For (3), please refer to https://www.tensorflow.org/guide/function#controlling_retracing and https://www.tensorflow.org/api_docs/python/tf/function for  more details.\n",
            "타원형: 96.65%\n",
            "노랑: 36.39%\n",
            "////////////////\n"
          ],
          "name": "stdout"
        },
        {
          "output_type": "display_data",
          "data": {
            "image/png": "[encoded data removed]",
            "text/plain": [
              "<PIL.Image.Image image mode=RGB size=400x400 at 0x7F290E0CD8D0>"
            ]
          },
          "metadata": {
            "tags": []
          }
        }
      ]
    },
    {
      "cell_type": "code",
      "metadata": {
        "colab": {
          "base_uri": "https://localhost:8080/",
          "height": 539
        },
        "id": "JXuiq-4HC9qZ",
        "outputId": "4840b137-0b38-47ea-82f3-06d573ae4a12"
      },
      "source": [
        "test('/content/content/remove1/199303108_12_1.png')"
      ],
      "execution_count": null,
      "outputs": [
        {
          "output_type": "stream",
          "text": [
            "[INFO] loading network...\n",
            "[INFO] classifying image...\n",
            "WARNING:tensorflow:11 out of the last 11 calls to <function Model.make_predict_function.<locals>.predict_function at 0x7f290e428200> triggered tf.function retracing. Tracing is expensive and the excessive number of tracings could be due to (1) creating @tf.function repeatedly in a loop, (2) passing tensors with different shapes, (3) passing Python objects instead of tensors. For (1), please define your @tf.function outside of the loop. For (2), @tf.function has experimental_relax_shapes=True option that relaxes argument shapes that can avoid unnecessary retracing. For (3), please refer to https://www.tensorflow.org/guide/function#controlling_retracing and https://www.tensorflow.org/api_docs/python/tf/function for  more details.\n",
            "장방형: 60.07%\n",
            "하양: 59.85%\n",
            "////////////////\n"
          ],
          "name": "stdout"
        },
        {
          "output_type": "display_data",
          "data": {
            "image/png": "[encoded data removed]",
            "text/plain": [
              "<PIL.Image.Image image mode=RGB size=400x400 at 0x7F290E514750>"
            ]
          },
          "metadata": {
            "tags": []
          }
        }
      ]
    },
    {
      "cell_type": "code",
      "metadata": {
        "colab": {
          "base_uri": "https://localhost:8080/",
          "height": 545
        },
        "id": "xr5QMBsDGCd_",
        "outputId": "8868ab62-6e38-44de-dd49-43e8eb9118fd"
      },
      "source": [
        "test('/content/test/199303108_1_2.png')"
      ],
      "execution_count": null,
      "outputs": [
        {
          "output_type": "stream",
          "text": [
            "[INFO] loading network...\n",
            "[INFO] classifying image...\n",
            "WARNING:tensorflow:11 out of the last 11 calls to <function Model.make_predict_function.<locals>.predict_function at 0x7f29064ff440> triggered tf.function retracing. Tracing is expensive and the excessive number of tracings could be due to (1) creating @tf.function repeatedly in a loop, (2) passing tensors with different shapes, (3) passing Python objects instead of tensors. For (1), please define your @tf.function outside of the loop. For (2), @tf.function has experimental_relax_shapes=True option that relaxes argument shapes that can avoid unnecessary retracing. For (3), please refer to https://www.tensorflow.org/guide/function#controlling_retracing and https://www.tensorflow.org/api_docs/python/tf/function for  more details.\n",
            "하양: 99.48%\n",
            "장방형: 91.18%\n",
            "////////////////\n"
          ],
          "name": "stdout"
        },
        {
          "output_type": "display_data",
          "data": {
            "image/png": "[encoded data removed]",
            "text/plain": [
              "<PIL.Image.Image image mode=RGB size=400x406 at 0x7F29066B6110>"
            ]
          },
          "metadata": {
            "tags": []
          }
        }
      ]
    },
    {
      "cell_type": "code",
      "metadata": {
        "colab": {
          "base_uri": "https://localhost:8080/",
          "height": 539
        },
        "id": "bBUgGOQvDbYd",
        "outputId": "5b52aa63-6d24-4847-a847-3303cab13bf7"
      },
      "source": [
        "test('/content/content/remove1/199303108_20_1.png')"
      ],
      "execution_count": null,
      "outputs": [
        {
          "output_type": "stream",
          "text": [
            "[INFO] loading network...\n",
            "[INFO] classifying image...\n",
            "WARNING:tensorflow:11 out of the last 11 calls to <function Model.make_predict_function.<locals>.predict_function at 0x7f29636ed950> triggered tf.function retracing. Tracing is expensive and the excessive number of tracings could be due to (1) creating @tf.function repeatedly in a loop, (2) passing tensors with different shapes, (3) passing Python objects instead of tensors. For (1), please define your @tf.function outside of the loop. For (2), @tf.function has experimental_relax_shapes=True option that relaxes argument shapes that can avoid unnecessary retracing. For (3), please refer to https://www.tensorflow.org/guide/function#controlling_retracing and https://www.tensorflow.org/api_docs/python/tf/function for  more details.\n",
            "타원형: 44.45%\n",
            "장방형: 27.36%\n",
            "////////////////\n"
          ],
          "name": "stdout"
        },
        {
          "output_type": "display_data",
          "data": {
            "image/png": "[encoded data removed]",
            "text/plain": [
              "<PIL.Image.Image image mode=RGB size=400x400 at 0x7F291619CE10>"
            ]
          },
          "metadata": {
            "tags": []
          }
        }
      ]
    },
    {
      "cell_type": "markdown",
      "metadata": {
        "id": "T-eA17UeE0tP"
      },
      "source": [
        ""
      ]
    },
    {
      "cell_type": "code",
      "metadata": {
        "id": "EaCTX2eFv6LO"
      },
      "source": [
        "testpath = '/content/test'"
      ],
      "execution_count": null,
      "outputs": []
    },
    {
      "cell_type": "code",
      "metadata": {
        "colab": {
          "base_uri": "https://localhost:8080/"
        },
        "id": "tjVO_iLcvvhv",
        "outputId": "09ccd417-d4f7-4d40-b169-56953ad22d19"
      },
      "source": [
        "test_list = os.listdir(testpath)\n",
        "test_list"
      ],
      "execution_count": null,
      "outputs": [
        {
          "output_type": "execute_result",
          "data": {
            "text/plain": [
              "['out1.png',\n",
              " '2.jpg',\n",
              " 'out2.png',\n",
              " '4.jpeg',\n",
              " 'out6.png',\n",
              " 'out3.png',\n",
              " '5.JPG',\n",
              " 'out4.png',\n",
              " 'out5.png',\n",
              " '6.JPG',\n",
              " '3.JPG',\n",
              " '1.jpg']"
            ]
          },
          "metadata": {
            "tags": []
          },
          "execution_count": 59
        }
      ]
    },
    {
      "cell_type": "code",
      "metadata": {
        "id": "ZcaPOq2TjVwq"
      },
      "source": [
        "#png 파일 있으면 jpg 로 변환해주기\n",
        "\n",
        "for sampleimg in os.listdir(test_list) :\n",
        "  if os.path.splitext(sampleimg)[-1] != '.jpg':\n",
        "    im = Image.open(test_list + sampleimg)\n",
        "    im = im.convert(\"RGB\")\n",
        "    im.save(test_list + '%s.jpg'%os.path.splitext(sampleimg)[0])\n",
        "    print(sampleimg)\n",
        "    os.remove(test_list + sampleimg)\n",
        "\n"
      ],
      "execution_count": null,
      "outputs": []
    },
    {
      "cell_type": "code",
      "metadata": {
        "id": "39TazvYjFTtU"
      },
      "source": [
        "!zip -r /content/drive/MyDrive/이게뭐약/AI/색깔모양분류/all/removeimg/multilabel_model.h5 /content/multilabel_model.h5"
      ],
      "execution_count": null,
      "outputs": []
    }
  ]
}